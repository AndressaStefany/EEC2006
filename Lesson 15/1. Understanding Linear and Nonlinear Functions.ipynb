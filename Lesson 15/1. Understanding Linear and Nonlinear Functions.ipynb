{
 "cells": [
  {
   "cell_type": "markdown",
   "metadata": {},
   "source": [
    "1. Why Learn Calculus?\n",
    "==\n",
    "\n",
    "In the previous course, we explored the machine learning workflow using the k-nearest neighbors algorithm. We chose the k-nearest neighbors algorithm because building the intuition for how the algorithm works doesn't require any mathematics. While the algorithm is easy to grasp, we can't use it for larger datasets because the model itself is represented using the entire training set. Each time we want to make a prediction on a new observation, we need to calculate the distance between each observation in our training set and our new observation, then rank by ascending distance. This is a computationally intensive technique!\n",
    "\n",
    "Moving forward, for most of the machine learning techniques we'll learn about next, the model is represented as a mathematical function. This mathematical function approximates the underlying function that describes how the features are related to the target attribute. Once we derive this mathematical function using the training dataset, making predictions on the test dataset (or on a future dataset) is computationally cheap. The following diagram shows 2 different linear regression functions that approximate the dataset (note that the values in this dataset are random).\n",
    "\n",
    "<img width=\"900\" alt=\"creating a repo\" src=\"https://drive.google.com/uc?export=view&id=1oiu7joWXwdBFmizd3V2o1rRcmJvZQwib\">\n",
    "\n",
    "\n",
    "\n",
    "Before we can dive into using linear regression models for machine learning, we'll need to understand some key ideas from calculus. Calculus provides a framework for understanding how mathematical functions behave. Calculus helps us:\n",
    "\n",
    "- understand the steepness at various points\n",
    "- find the extreme points in a function\n",
    "- determine the optimal function that best represents a dataset\n",
    "\n",
    "Let's start by setting up a motivating problem, which we'll refer back to throughout this course. Let's say we're given the following equation, which describes the trajectory of a ball after it's kicked by a football player:\n",
    "\n",
    "$$-(x^2)+3x-1$$\n",
    "\n",
    "$x$ is time in seconds while y is the vertical position of the ball. Naturally, we'd like to know the highest position the ball reached and at what time that happened. While we can graph the equation and estimate the result visually, if we want the precise time and vertical position we'll need to use calculus. In this course, we'll explore the different calculus concepts necessary to build up to being able to find this precise point.\n",
    "\n",
    "Let's start by visualizing this function.\n",
    "\n",
    "\n",
    "<br>\n",
    "<div class=\"alert alert-info\">\n",
    "<b>Exercise Start.</b>\n",
    "</div>\n",
    "\n",
    "**Description**: \n",
    "\n",
    "- Use [numpy.linspace()](https://docs.scipy.org/doc/numpy/reference/generated/numpy.linspace.html) to generate a NumPy array containing 100 values from **0** to **3** and assign to **x**.\n",
    "- Transform **x** by applying the function: $y=-(x^2)+3x-1$ assign the resulting array of transformed values to **y**.\n",
    "- Use <span style=\"background-color: #F9EBEA; color:##C0392B\">pyplot.plot()</span> to generate a line plot with **x** on the x-axis and **y** on the y-axis.\n",
    "- Brainstorm how you would calculate the maximum height and find the exact time it occurred."
   ]
  },
  {
   "cell_type": "code",
   "execution_count": 2,
   "metadata": {},
   "outputs": [
    {
     "data": {
      "image/png": "[encoded data removed]",
      "text/plain": [
       "<matplotlib.figure.Figure at 0x10afac0b8>"
      ]
     },
     "metadata": {},
     "output_type": "display_data"
    }
   ],
   "source": [
    "import numpy as np\n",
    "import matplotlib.pyplot as plt\n",
    "\n",
    "x = np.linspace(0, 3, 300)\n",
    "y = -1*(x**2) + x*3 - 1\n",
    "plt.plot(x,y)\n",
    "plt.show()"
   ]
  },
  {
   "cell_type": "markdown",
   "metadata": {},
   "source": [
    "2. Linear Function\n",
    "==\n",
    "\n",
    "Before we dive into analyzing the curve of a ball's height, we'll need to understand a few key ideas first. We'll explore those concepts using simple, straight lines first then build up to applying those concepts to curves. A simple, straight line is more clearly defined as a linear function. All linear functions can be written in the following form:\n",
    "\n",
    "$y=mx+b$\n",
    "\n",
    "For a specific linear function, m and b are constant values while $x$ and $y$ are variables. \n",
    "$y=3x+1$ and $y=5$ are both examples of linear function.\n",
    "\n",
    "Let's focus on the function $y=3x+1$ for now. This function multiples any $x$ value we pass in by 3 then adds 1 to it.\n",
    "\n",
    "| x  | y   |\n",
    "|----|-----|\n",
    "| -5 | -14 |\n",
    "| -4 | -11 |\n",
    "| -3 | -8  |\n",
    "| -2 | -5  |\n",
    "| -1 | -2  |\n",
    "| 0  | 1   |\n",
    "| 1  | 4   |\n",
    "| 2  | 7   |\n",
    "| 3  | 10  |\n",
    "| 4  | 13  |\n",
    "| 5  | 16  |\n",
    "\n",
    "Let's start by gaining a geometric understanding of linear functions. Use the widget below to play around with different values of m and b.\n",
    "\n",
    "- How does the line change when you keep m fixed but vary b?\n",
    "- How does the line change when you keep b fixed but vary m?\n",
    "- Which value controls the steepness of the line?\n",
    "- What happens to the line when m is set to 0?"
   ]
  },
  {
   "cell_type": "code",
   "execution_count": 3,
   "metadata": {},
   "outputs": [
    {
     "data": {
      "text/html": [
       "\n",
       "    <div class=\"bk-root\">\n",
       "        <a href=\"https://bokeh.pydata.org\" target=\"_blank\" class=\"bk-logo bk-logo-small bk-logo-notebook\"></a>\n",
       "        <span id=\"0c1024d6-b77f-4aca-a6cc-adeff3ec8881\">Loading BokehJS ...</span>\n",
       "    </div>"
      ]
     },
     "metadata": {},
     "output_type": "display_data"
    },
    {
     "data": {
      "application/javascript": [
       "\n",
       "(function(root) {\n",
       "  function now() {\n",
       "    return new Date();\n",
       "  }\n",
       "\n",
       "  var force = true;\n",
       "\n",
       "  if (typeof (root._bokeh_onload_callbacks) === \"undefined\" || force === true) {\n",
       "    root._bokeh_onload_callbacks = [];\n",
       "    root._bokeh_is_loading = undefined;\n",
       "  }\n",
       "\n",
       "  var JS_MIME_TYPE = 'application/javascript';\n",
       "  var HTML_MIME_TYPE = 'text/html';\n",
       "  var EXEC_MIME_TYPE = 'application/vnd.bokehjs_exec.v0+json';\n",
       "  var CLASS_NAME = 'output_bokeh rendered_html';\n",
       "\n",
       "  /**\n",
       "   * Render data to the DOM node\n",
       "   */\n",
       "  function render(props, node) {\n",
       "    var script = document.createElement(\"script\");\n",
       "    node.appendChild(script);\n",
       "  }\n",
       "\n",
       "  /**\n",
       "   * Handle when an output is cleared or removed\n",
       "   */\n",
       "  function handleClearOutput(event, handle) {\n",
       "    var cell = handle.cell;\n",
       "\n",
       "    var id = cell.output_area._bokeh_element_id;\n",
       "    var server_id = cell.output_area._bokeh_server_id;\n",
       "    // Clean up Bokeh references\n",
       "    if (id !== undefined) {\n",
       "      Bokeh.index[id].model.document.clear();\n",
       "      delete Bokeh.index[id];\n",
       "    }\n",
       "\n",
       "    if (server_id !== undefined) {\n",
       "      // Clean up Bokeh references\n",
       "      var cmd = \"from bokeh.io.state import curstate; print(curstate().uuid_to_server['\" + server_id + \"'].get_sessions()[0].document.roots[0]._id)\";\n",
       "      cell.notebook.kernel.execute(cmd, {\n",
       "        iopub: {\n",
       "          output: function(msg) {\n",
       "            var element_id = msg.content.text.trim();\n",
       "            Bokeh.index[element_id].model.document.clear();\n",
       "            delete Bokeh.index[element_id];\n",
       "          }\n",
       "        }\n",
       "      });\n",
       "      // Destroy server and session\n",
       "      var cmd = \"import bokeh.io.notebook as ion; ion.destroy_server('\" + server_id + \"')\";\n",
       "      cell.notebook.kernel.execute(cmd);\n",
       "    }\n",
       "  }\n",
       "\n",
       "  /**\n",
       "   * Handle when a new output is added\n",
       "   */\n",
       "  function handleAddOutput(event, handle) {\n",
       "    var output_area = handle.output_area;\n",
       "    var output = handle.output;\n",
       "\n",
       "    // limit handleAddOutput to display_data with EXEC_MIME_TYPE content only\n",
       "    if ((output.output_type != \"display_data\") || (!output.data.hasOwnProperty(EXEC_MIME_TYPE))) {\n",
       "      return\n",
       "    }\n",
       "\n",
       "    var toinsert = output_area.element.find(\".\" + CLASS_NAME.split(' ')[0]);\n",
       "\n",
       "    if (output.metadata[EXEC_MIME_TYPE][\"id\"] !== undefined) {\n",
       "      toinsert[0].firstChild.textContent = output.data[JS_MIME_TYPE];\n",
       "      // store reference to embed id on output_area\n",
       "      output_area._bokeh_element_id = output.metadata[EXEC_MIME_TYPE][\"id\"];\n",
       "    }\n",
       "    if (output.metadata[EXEC_MIME_TYPE][\"server_id\"] !== undefined) {\n",
       "      var bk_div = document.createElement(\"div\");\n",
       "      bk_div.innerHTML = output.data[HTML_MIME_TYPE];\n",
       "      var script_attrs = bk_div.children[0].attributes;\n",
       "      for (var i = 0; i < script_attrs.length; i++) {\n",
       "        toinsert[0].firstChild.setAttribute(script_attrs[i].name, script_attrs[i].value);\n",
       "      }\n",
       "      // store reference to server id on output_area\n",
       "      output_area._bokeh_server_id = output.metadata[EXEC_MIME_TYPE][\"server_id\"];\n",
       "    }\n",
       "  }\n",
       "\n",
       "  function register_renderer(events, OutputArea) {\n",
       "\n",
       "    function append_mime(data, metadata, element) {\n",
       "      // create a DOM node to render to\n",
       "      var toinsert = this.create_output_subarea(\n",
       "        metadata,\n",
       "        CLASS_NAME,\n",
       "        EXEC_MIME_TYPE\n",
       "      );\n",
       "      this.keyboard_manager.register_events(toinsert);\n",
       "      // Render to node\n",
       "      var props = {data: data, metadata: metadata[EXEC_MIME_TYPE]};\n",
       "      render(props, toinsert[0]);\n",
       "      element.append(toinsert);\n",
       "      return toinsert\n",
       "    }\n",
       "\n",
       "    /* Handle when an output is cleared or removed */\n",
       "    events.on('clear_output.CodeCell', handleClearOutput);\n",
       "    events.on('delete.Cell', handleClearOutput);\n",
       "\n",
       "    /* Handle when a new output is added */\n",
       "    events.on('output_added.OutputArea', handleAddOutput);\n",
       "\n",
       "    /**\n",
       "     * Register the mime type and append_mime function with output_area\n",
       "     */\n",
       "    OutputArea.prototype.register_mime_type(EXEC_MIME_TYPE, append_mime, {\n",
       "      /* Is output safe? */\n",
       "      safe: true,\n",
       "      /* Index of renderer in `output_area.display_order` */\n",
       "      index: 0\n",
       "    });\n",
       "  }\n",
       "\n",
       "  // register the mime type if in Jupyter Notebook environment and previously unregistered\n",
       "  if (root.Jupyter !== undefined) {\n",
       "    var events = require('base/js/events');\n",
       "    var OutputArea = require('notebook/js/outputarea').OutputArea;\n",
       "\n",
       "    if (OutputArea.prototype.mime_types().indexOf(EXEC_MIME_TYPE) == -1) {\n",
       "      register_renderer(events, OutputArea);\n",
       "    }\n",
       "  }\n",
       "\n",
       "  \n",
       "  if (typeof (root._bokeh_timeout) === \"undefined\" || force === true) {\n",
       "    root._bokeh_timeout = Date.now() + 5000;\n",
       "    root._bokeh_failed_load = false;\n",
       "  }\n",
       "\n",
       "  var NB_LOAD_WARNING = {'data': {'text/html':\n",
       "     \"<div style='background-color: #fdd'>\\n\"+\n",
       "     \"<p>\\n\"+\n",
       "     \"BokehJS does not appear to have successfully loaded. If loading BokehJS from CDN, this \\n\"+\n",
       "     \"may be due to a slow or bad network connection. Possible fixes:\\n\"+\n",
       "     \"</p>\\n\"+\n",
       "     \"<ul>\\n\"+\n",
       "     \"<li>re-rerun `output_notebook()` to attempt to load from CDN again, or</li>\\n\"+\n",
       "     \"<li>use INLINE resources instead, as so:</li>\\n\"+\n",
       "     \"</ul>\\n\"+\n",
       "     \"<code>\\n\"+\n",
       "     \"from bokeh.resources import INLINE\\n\"+\n",
       "     \"output_notebook(resources=INLINE)\\n\"+\n",
       "     \"</code>\\n\"+\n",
       "     \"</div>\"}};\n",
       "\n",
       "  function display_loaded() {\n",
       "    var el = document.getElementById(\"0c1024d6-b77f-4aca-a6cc-adeff3ec8881\");\n",
       "    if (el != null) {\n",
       "      el.textContent = \"BokehJS is loading...\";\n",
       "    }\n",
       "    if (root.Bokeh !== undefined) {\n",
       "      if (el != null) {\n",
       "        el.textContent = \"BokehJS \" + root.Bokeh.version + \" successfully loaded.\";\n",
       "      }\n",
       "    } else if (Date.now() < root._bokeh_timeout) {\n",
       "      setTimeout(display_loaded, 100)\n",
       "    }\n",
       "  }\n",
       "\n",
       "\n",
       "  function run_callbacks() {\n",
       "    try {\n",
       "      root._bokeh_onload_callbacks.forEach(function(callback) { callback() });\n",
       "    }\n",
       "    finally {\n",
       "      delete root._bokeh_onload_callbacks\n",
       "    }\n",
       "    console.info(\"Bokeh: all callbacks have finished\");\n",
       "  }\n",
       "\n",
       "  function load_libs(js_urls, callback) {\n",
       "    root._bokeh_onload_callbacks.push(callback);\n",
       "    if (root._bokeh_is_loading > 0) {\n",
       "      console.log(\"Bokeh: BokehJS is being loaded, scheduling callback at\", now());\n",
       "      return null;\n",
       "    }\n",
       "    if (js_urls == null || js_urls.length === 0) {\n",
       "      run_callbacks();\n",
       "      return null;\n",
       "    }\n",
       "    console.log(\"Bokeh: BokehJS not loaded, scheduling load and callback at\", now());\n",
       "    root._bokeh_is_loading = js_urls.length;\n",
       "    for (var i = 0; i < js_urls.length; i++) {\n",
       "      var url = js_urls[i];\n",
       "      var s = document.createElement('script');\n",
       "      s.src = url;\n",
       "      s.async = false;\n",
       "      s.onreadystatechange = s.onload = function() {\n",
       "        root._bokeh_is_loading--;\n",
       "        if (root._bokeh_is_loading === 0) {\n",
       "          console.log(\"Bokeh: all BokehJS libraries loaded\");\n",
       "          run_callbacks()\n",
       "        }\n",
       "      };\n",
       "      s.onerror = function() {\n",
       "        console.warn(\"failed to load library \" + url);\n",
       "      };\n",
       "      console.log(\"Bokeh: injecting script tag for BokehJS library: \", url);\n",
       "      document.getElementsByTagName(\"head\")[0].appendChild(s);\n",
       "    }\n",
       "  };var element = document.getElementById(\"0c1024d6-b77f-4aca-a6cc-adeff3ec8881\");\n",
       "  if (element == null) {\n",
       "    console.log(\"Bokeh: ERROR: autoload.js configured with elementid '0c1024d6-b77f-4aca-a6cc-adeff3ec8881' but no matching script tag was found. \")\n",
       "    return false;\n",
       "  }\n",
       "\n",
       "  var js_urls = [\"https://cdn.pydata.org/bokeh/release/bokeh-0.12.13.min.js\", \"https://cdn.pydata.org/bokeh/release/bokeh-widgets-0.12.13.min.js\", \"https://cdn.pydata.org/bokeh/release/bokeh-tables-0.12.13.min.js\", \"https://cdn.pydata.org/bokeh/release/bokeh-gl-0.12.13.min.js\"];\n",
       "\n",
       "  var inline_js = [\n",
       "    function(Bokeh) {\n",
       "      Bokeh.set_log_level(\"info\");\n",
       "    },\n",
       "    \n",
       "    function(Bokeh) {\n",
       "      \n",
       "    },\n",
       "    function(Bokeh) {\n",
       "      console.log(\"Bokeh: injecting CSS: https://cdn.pydata.org/bokeh/release/bokeh-0.12.13.min.css\");\n",
       "      Bokeh.embed.inject_css(\"https://cdn.pydata.org/bokeh/release/bokeh-0.12.13.min.css\");\n",
       "      console.log(\"Bokeh: injecting CSS: https://cdn.pydata.org/bokeh/release/bokeh-widgets-0.12.13.min.css\");\n",
       "      Bokeh.embed.inject_css(\"https://cdn.pydata.org/bokeh/release/bokeh-widgets-0.12.13.min.css\");\n",
       "      console.log(\"Bokeh: injecting CSS: https://cdn.pydata.org/bokeh/release/bokeh-tables-0.12.13.min.css\");\n",
       "      Bokeh.embed.inject_css(\"https://cdn.pydata.org/bokeh/release/bokeh-tables-0.12.13.min.css\");\n",
       "    }\n",
       "  ];\n",
       "\n",
       "  function run_inline_js() {\n",
       "    \n",
       "    if ((root.Bokeh !== undefined) || (force === true)) {\n",
       "      for (var i = 0; i < inline_js.length; i++) {\n",
       "        inline_js[i].call(root, root.Bokeh);\n",
       "      }if (force === true) {\n",
       "        display_loaded();\n",
       "      }} else if (Date.now() < root._bokeh_timeout) {\n",
       "      setTimeout(run_inline_js, 100);\n",
       "    } else if (!root._bokeh_failed_load) {\n",
       "      console.log(\"Bokeh: BokehJS failed to load within specified timeout.\");\n",
       "      root._bokeh_failed_load = true;\n",
       "    } else if (force !== true) {\n",
       "      var cell = $(document.getElementById(\"0c1024d6-b77f-4aca-a6cc-adeff3ec8881\")).parents('.cell').data().cell;\n",
       "      cell.output_area.append_execute_result(NB_LOAD_WARNING)\n",
       "    }\n",
       "\n",
       "  }\n",
       "\n",
       "  if (root._bokeh_is_loading === 0) {\n",
       "    console.log(\"Bokeh: BokehJS loaded, going straight to plotting\");\n",
       "    run_inline_js();\n",
       "  } else {\n",
       "    load_libs(js_urls, function() {\n",
       "      console.log(\"Bokeh: BokehJS plotting callback run at\", now());\n",
       "      run_inline_js();\n",
       "    });\n",
       "  }\n",
       "}(window));"
      ],
      "application/vnd.bokehjs_load.v0+json": "\n(function(root) {\n  function now() {\n    return new Date();\n  }\n\n  var force = true;\n\n  if (typeof (root._bokeh_onload_callbacks) === \"undefined\" || force === true) {\n    root._bokeh_onload_callbacks = [];\n    root._bokeh_is_loading = undefined;\n  }\n\n  \n\n  \n  if (typeof (root._bokeh_timeout) === \"undefined\" || force === true) {\n    root._bokeh_timeout = Date.now() + 5000;\n    root._bokeh_failed_load = false;\n  }\n\n  var NB_LOAD_WARNING = {'data': {'text/html':\n     \"<div style='background-color: #fdd'>\\n\"+\n     \"<p>\\n\"+\n     \"BokehJS does not appear to have successfully loaded. If loading BokehJS from CDN, this \\n\"+\n     \"may be due to a slow or bad network connection. Possible fixes:\\n\"+\n     \"</p>\\n\"+\n     \"<ul>\\n\"+\n     \"<li>re-rerun `output_notebook()` to attempt to load from CDN again, or</li>\\n\"+\n     \"<li>use INLINE resources instead, as so:</li>\\n\"+\n     \"</ul>\\n\"+\n     \"<code>\\n\"+\n     \"from bokeh.resources import INLINE\\n\"+\n     \"output_notebook(resources=INLINE)\\n\"+\n     \"</code>\\n\"+\n     \"</div>\"}};\n\n  function display_loaded() {\n    var el = document.getElementById(\"0c1024d6-b77f-4aca-a6cc-adeff3ec8881\");\n    if (el != null) {\n      el.textContent = \"BokehJS is loading...\";\n    }\n    if (root.Bokeh !== undefined) {\n      if (el != null) {\n        el.textContent = \"BokehJS \" + root.Bokeh.version + \" successfully loaded.\";\n      }\n    } else if (Date.now() < root._bokeh_timeout) {\n      setTimeout(display_loaded, 100)\n    }\n  }\n\n\n  function run_callbacks() {\n    try {\n      root._bokeh_onload_callbacks.forEach(function(callback) { callback() });\n    }\n    finally {\n      delete root._bokeh_onload_callbacks\n    }\n    console.info(\"Bokeh: all callbacks have finished\");\n  }\n\n  function load_libs(js_urls, callback) {\n    root._bokeh_onload_callbacks.push(callback);\n    if (root._bokeh_is_loading > 0) {\n      console.log(\"Bokeh: BokehJS is being loaded, scheduling callback at\", now());\n      return null;\n    }\n    if (js_urls == null || js_urls.length === 0) {\n      run_callbacks();\n      return null;\n    }\n    console.log(\"Bokeh: BokehJS not loaded, scheduling load and callback at\", now());\n    root._bokeh_is_loading = js_urls.length;\n    for (var i = 0; i < js_urls.length; i++) {\n      var url = js_urls[i];\n      var s = document.createElement('script');\n      s.src = url;\n      s.async = false;\n      s.onreadystatechange = s.onload = function() {\n        root._bokeh_is_loading--;\n        if (root._bokeh_is_loading === 0) {\n          console.log(\"Bokeh: all BokehJS libraries loaded\");\n          run_callbacks()\n        }\n      };\n      s.onerror = function() {\n        console.warn(\"failed to load library \" + url);\n      };\n      console.log(\"Bokeh: injecting script tag for BokehJS library: \", url);\n      document.getElementsByTagName(\"head\")[0].appendChild(s);\n    }\n  };var element = document.getElementById(\"0c1024d6-b77f-4aca-a6cc-adeff3ec8881\");\n  if (element == null) {\n    console.log(\"Bokeh: ERROR: autoload.js configured with elementid '0c1024d6-b77f-4aca-a6cc-adeff3ec8881' but no matching script tag was found. \")\n    return false;\n  }\n\n  var js_urls = [\"https://cdn.pydata.org/bokeh/release/bokeh-0.12.13.min.js\", \"https://cdn.pydata.org/bokeh/release/bokeh-widgets-0.12.13.min.js\", \"https://cdn.pydata.org/bokeh/release/bokeh-tables-0.12.13.min.js\", \"https://cdn.pydata.org/bokeh/release/bokeh-gl-0.12.13.min.js\"];\n\n  var inline_js = [\n    function(Bokeh) {\n      Bokeh.set_log_level(\"info\");\n    },\n    \n    function(Bokeh) {\n      \n    },\n    function(Bokeh) {\n      console.log(\"Bokeh: injecting CSS: https://cdn.pydata.org/bokeh/release/bokeh-0.12.13.min.css\");\n      Bokeh.embed.inject_css(\"https://cdn.pydata.org/bokeh/release/bokeh-0.12.13.min.css\");\n      console.log(\"Bokeh: injecting CSS: https://cdn.pydata.org/bokeh/release/bokeh-widgets-0.12.13.min.css\");\n      Bokeh.embed.inject_css(\"https://cdn.pydata.org/bokeh/release/bokeh-widgets-0.12.13.min.css\");\n      console.log(\"Bokeh: injecting CSS: https://cdn.pydata.org/bokeh/release/bokeh-tables-0.12.13.min.css\");\n      Bokeh.embed.inject_css(\"https://cdn.pydata.org/bokeh/release/bokeh-tables-0.12.13.min.css\");\n    }\n  ];\n\n  function run_inline_js() {\n    \n    if ((root.Bokeh !== undefined) || (force === true)) {\n      for (var i = 0; i < inline_js.length; i++) {\n        inline_js[i].call(root, root.Bokeh);\n      }if (force === true) {\n        display_loaded();\n      }} else if (Date.now() < root._bokeh_timeout) {\n      setTimeout(run_inline_js, 100);\n    } else if (!root._bokeh_failed_load) {\n      console.log(\"Bokeh: BokehJS failed to load within specified timeout.\");\n      root._bokeh_failed_load = true;\n    } else if (force !== true) {\n      var cell = $(document.getElementById(\"0c1024d6-b77f-4aca-a6cc-adeff3ec8881\")).parents('.cell').data().cell;\n      cell.output_area.append_execute_result(NB_LOAD_WARNING)\n    }\n\n  }\n\n  if (root._bokeh_is_loading === 0) {\n    console.log(\"Bokeh: BokehJS loaded, going straight to plotting\");\n    run_inline_js();\n  } else {\n    load_libs(js_urls, function() {\n      console.log(\"Bokeh: BokehJS plotting callback run at\", now());\n      run_inline_js();\n    });\n  }\n}(window));"
     },
     "metadata": {},
     "output_type": "display_data"
    }
   ],
   "source": [
    "from ipywidgets import interact\n",
    "import numpy as np\n",
    "\n",
    "from bokeh.io import push_notebook, show, output_notebook\n",
    "from bokeh.plotting import figure\n",
    "output_notebook()"
   ]
  },
  {
   "cell_type": "code",
   "execution_count": 4,
   "metadata": {
    "collapsed": true
   },
   "outputs": [],
   "source": [
    "x = np.linspace(-3, 3, 100)\n",
    "y = 3*x + 2"
   ]
  },
  {
   "cell_type": "code",
   "execution_count": 5,
   "metadata": {
    "collapsed": true
   },
   "outputs": [],
   "source": [
    "# Let's say we're given the following equation, \n",
    "# which describes the trajectory of a ball after it's kicked by a football player:\n",
    "p = figure(title=\"Trajectory of a ball\", \n",
    "           plot_height=300, plot_width=600,\n",
    "           y_range=(-5,5), x_range=(-5,5))\n",
    "r = p.line(x, y, color=\"blue\", line_width=3)"
   ]
  },
  {
   "cell_type": "code",
   "execution_count": 6,
   "metadata": {
    "collapsed": true
   },
   "outputs": [],
   "source": [
    "def update(m,b):\n",
    "    r.data_source.data['y'] = m*x + b\n",
    "    push_notebook()"
   ]
  },
  {
   "cell_type": "code",
   "execution_count": 7,
   "metadata": {},
   "outputs": [
    {
     "data": {
      "text/html": [
       "\n",
       "<div class=\"bk-root\">\n",
       "    <div class=\"bk-plotdiv\" id=\"087ebdb8-955a-4e99-9447-c1c60a3917ee\"></div>\n",
       "</div>"
      ]
     },
     "metadata": {},
     "output_type": "display_data"
    },
    {
     "data": {
      "application/javascript": [
       "(function(root) {\n",
       "  function embed_document(root) {\n",
       "    \n",
       "  var docs_json = {\"d14ad2ec-0ad0-4005-83ec-8d840e0ce980\":{\"roots\":{\"references\":[{\"attributes\":{\"dimension\":1,\"plot\":{\"id\":\"2dbcbc8f-217e-49ae-8a08-cd7368868f88\",\"subtype\":\"Figure\",\"type\":\"Plot\"},\"ticker\":{\"id\":\"0b05ab54-0d73-45e6-98cf-ebad80dbc03e\",\"type\":\"BasicTicker\"}},\"id\":\"4a651223-88d9-458b-9b8c-23114ed3c058\",\"type\":\"Grid\"},{\"attributes\":{\"callback\":null,\"end\":5,\"start\":-5},\"id\":\"c65d76fb-0653-4276-8df4-6fd4e60d0f84\",\"type\":\"Range1d\"},{\"attributes\":{},\"id\":\"a3235596-2f61-496e-9298-e3dd2f582eae\",\"type\":\"BasicTickFormatter\"},{\"attributes\":{\"bottom_units\":\"screen\",\"fill_alpha\":{\"value\":0.5},\"fill_color\":{\"value\":\"lightgrey\"},\"left_units\":\"screen\",\"level\":\"overlay\",\"line_alpha\":{\"value\":1.0},\"line_color\":{\"value\":\"black\"},\"line_dash\":[4,4],\"line_width\":{\"value\":2},\"plot\":null,\"render_mode\":\"css\",\"right_units\":\"screen\",\"top_units\":\"screen\"},\"id\":\"640563c8-d627-4c3c-8a24-4d6420accc0e\",\"type\":\"BoxAnnotation\"},{\"attributes\":{},\"id\":\"c0eb7733-37fe-4b5e-b7ae-ae3448f4973e\",\"type\":\"BasicTickFormatter\"},{\"attributes\":{\"line_color\":\"blue\",\"line_width\":3,\"x\":{\"field\":\"x\"},\"y\":{\"field\":\"y\"}},\"id\":\"e3371891-97c5-4b48-b295-a8eb0742f437\",\"type\":\"Line\"},{\"attributes\":{},\"id\":\"24bdf8f5-359d-40ef-b77c-4ede6be16f7d\",\"type\":\"LinearScale\"},{\"attributes\":{},\"id\":\"0c99e703-828a-4266-87a1-137d3c8c2f71\",\"type\":\"PanTool\"},{\"attributes\":{\"callback\":null,\"column_names\":[\"x\",\"y\"],\"data\":{\"x\":{\"__ndarray__\":\"AAAAAAAACMCEDz744IMHwAgffPDBBwfAjC666KKLBsAQPvjggw8GwJNNNtlkkwXAF1100UUXBcCbbLLJJpsEwB988MEHHwTAo4suuuiiA8Anm2yyySYDwKqqqqqqqgLALrrooosuAsCyySabbLIBwDbZZJNNNgHAuuiiiy66AMA++OCDDz4AwIQPPvjgg/+/jC666KKL/r+TTTbZZJP9v5tssskmm/y/o4suuuii+7+qqqqqqqr6v7LJJptssvm/uuiiiy66+L/CBx988MH3v8omm2yyyfa/0UUXXXTR9b/ZZJNNNtn0v+GDDz744PO/6KKLLrro8r/wwQcffPDxv/jggw8++PC/AAAAAAAA8L8QPvjggw/uvyB88MEHH+y/MLrooosu6r88+OCDDz7ov0w22WSTTea/XHTRRRdd5L9ssskmm2ziv3zwwQcffOC/GF100UUX3b842WSTTTbZv1BVVVVVVdW/cNFFF1100b8gm2yyySbLv2CTTTbZZMO/QBdddNFFt78AH3zwwQefvwAffPDBB58/QBdddNFFtz9gk0022WTDPzCbbLLJJss/eNFFF1100T9YVVVVVVXVPzjZZJNNNtk/GF100UUX3T988MEHH3zgP2yyySabbOI/YHTRRRdd5D9QNtlkk03mP0D44IMPPug/MLrooosu6j8gfPDBBx/sPxA++OCDD+4/AAAAAAAA8D/44IMPPvjwP/DBBx988PE/6KKLLrro8j/ggw8++ODzP9hkk0022fQ/0EUXXXTR9T/MJptsssn2P8QHH3zwwfc/vOiiiy66+D+0ySabbLL5P6yqqqqqqvo/pIsuuuii+z+cbLLJJpv8P5RNNtlkk/0/jC666KKL/j+EDz744IP/Pz744IMPPgBAuuiiiy66AEA22WSTTTYBQLLJJptssgFALrrooosuAkCsqqqqqqoCQCibbLLJJgNApIsuuuiiA0AgfPDBBx8EQJxssskmmwRAGF100UUXBUCUTTbZZJMFQBA++OCDDwZAjC666KKLBkAIH3zwwQcHQIQPPvjggwdAAAAAAAAACEA=\",\"dtype\":\"float64\",\"shape\":[100]},\"y\":{\"__ndarray__\":\"AAAAAAAAHMBGF1100UUbwIwuuuiiixrA0kUXXXTRGcAYXXTRRRcZwFx00UUXXRjAoosuuuiiF8DooosuuugWwC666KKLLhbAdNFFF110FcC66KKLLroUwP///////xPARRdddNFFE8CLLrrooosSwNFFF1100RHAF1100UUXEcBddNFFF10QwEYXXXTRRQ/A0kUXXXTRDcBcdNFFF10MwOiiiy666ArAdNFFF110CcAAAAAAAAAIwIwuuuiiiwbAGF100UUXBcCkiy666KIDwDC66KKLLgLAuuiiiy66AMCMLrrooov+v6SLLrroovu/uOiiiy66+L/QRRdddNH1v+iiiy666PK/AAAAAAAA8L8wuuiiiy7qv2B00UUXXeS/IF100UUX3b9o0UUXXXTRvyAXXXTRRbe/YBdddNFFtz940UUXXXTRPxhddNFFF90/XHTRRRdd5D8suuiiiy7qPwQAAAAAAPA/7KKLLrro8j/URRdddNH1P7zooosuuvg/pIsuuuii+z+MLrrooov+P7rooosuugBALrrooosuAkCiiy666KIDQBlddNFFFwVAjS666KKLBkABAAAAAAAIQHXRRRdddAlA6aKLLrroCkBddNFFF10MQNFFF1100Q1ASBdddNFFD0BedNFFF10QQBhddNFFFxFA0kUXXXTREUCMLrrooosSQEYXXXTRRRNAAAAAAAAAFEC66KKLLroUQHTRRRdddBVALrrooosuFkDooosuuugWQKKLLrroohdAXHTRRRddGEAZXXTRRRcZQNNFF1100RlAjS666KKLGkBHF1100UUbQAEAAAAAABxAu+iiiy66HEB10UUXXXQdQC+66KKLLh5A6aKLLrroHkCjiy666KIfQC666KKLLiBAjC666KKLIEDooosuuuggQEYXXXTRRSFAoosuuuiiIUABAAAAAAAiQF500UUXXSJAu+iiiy66IkAYXXTRRRcjQHXRRRdddCNA0kUXXXTRI0Avuuiiiy4kQIwuuuiiiyRA6aKLLrroJEBGF1100UUlQKOLLrrooiVAAAAAAAAAJkA=\",\"dtype\":\"float64\",\"shape\":[100]}}},\"id\":\"aafb33ec-e21c-4fdb-84fc-36b5d45a7362\",\"type\":\"ColumnDataSource\"},{\"attributes\":{\"below\":[{\"id\":\"d51bf93a-9dbc-4066-86a7-f036635a7845\",\"type\":\"LinearAxis\"}],\"left\":[{\"id\":\"f8ab0b6b-cbc1-47ec-b90a-eccbd379d50d\",\"type\":\"LinearAxis\"}],\"plot_height\":300,\"renderers\":[{\"id\":\"d51bf93a-9dbc-4066-86a7-f036635a7845\",\"type\":\"LinearAxis\"},{\"id\":\"afee610f-9ec9-4a66-867c-917f7dfb988d\",\"type\":\"Grid\"},{\"id\":\"f8ab0b6b-cbc1-47ec-b90a-eccbd379d50d\",\"type\":\"LinearAxis\"},{\"id\":\"4a651223-88d9-458b-9b8c-23114ed3c058\",\"type\":\"Grid\"},{\"id\":\"640563c8-d627-4c3c-8a24-4d6420accc0e\",\"type\":\"BoxAnnotation\"},{\"id\":\"27ccb0b1-f61d-4c24-ab11-b2fff639a520\",\"type\":\"GlyphRenderer\"}],\"title\":{\"id\":\"57ee1292-feba-4180-94c0-c309fc245dfd\",\"type\":\"Title\"},\"toolbar\":{\"id\":\"2cd243e9-e3ef-457f-b367-df353b322257\",\"type\":\"Toolbar\"},\"x_range\":{\"id\":\"0775a9cc-00b7-4c1d-9c55-c8b159780737\",\"type\":\"Range1d\"},\"x_scale\":{\"id\":\"ec01dbb0-bf26-4006-9c2c-6c19ddea3935\",\"type\":\"LinearScale\"},\"y_range\":{\"id\":\"c65d76fb-0653-4276-8df4-6fd4e60d0f84\",\"type\":\"Range1d\"},\"y_scale\":{\"id\":\"24bdf8f5-359d-40ef-b77c-4ede6be16f7d\",\"type\":\"LinearScale\"}},\"id\":\"2dbcbc8f-217e-49ae-8a08-cd7368868f88\",\"subtype\":\"Figure\",\"type\":\"Plot\"},{\"attributes\":{},\"id\":\"7c7450b4-b1e5-439f-9414-aae0c0567e0b\",\"type\":\"WheelZoomTool\"},{\"attributes\":{\"line_alpha\":0.1,\"line_color\":\"#1f77b4\",\"line_width\":3,\"x\":{\"field\":\"x\"},\"y\":{\"field\":\"y\"}},\"id\":\"df3c8079-495a-4fa5-a69a-b23f15e77226\",\"type\":\"Line\"},{\"attributes\":{\"source\":{\"id\":\"aafb33ec-e21c-4fdb-84fc-36b5d45a7362\",\"type\":\"ColumnDataSource\"}},\"id\":\"9f769536-e11f-4a49-8c44-70d425ee98dd\",\"type\":\"CDSView\"},{\"attributes\":{\"overlay\":{\"id\":\"640563c8-d627-4c3c-8a24-4d6420accc0e\",\"type\":\"BoxAnnotation\"}},\"id\":\"37c119aa-8520-443a-8345-c02a65c8e4e1\",\"type\":\"BoxZoomTool\"},{\"attributes\":{\"plot\":null,\"text\":\"Trajectory of a ball\"},\"id\":\"57ee1292-feba-4180-94c0-c309fc245dfd\",\"type\":\"Title\"},{\"attributes\":{\"formatter\":{\"id\":\"c0eb7733-37fe-4b5e-b7ae-ae3448f4973e\",\"type\":\"BasicTickFormatter\"},\"plot\":{\"id\":\"2dbcbc8f-217e-49ae-8a08-cd7368868f88\",\"subtype\":\"Figure\",\"type\":\"Plot\"},\"ticker\":{\"id\":\"0b05ab54-0d73-45e6-98cf-ebad80dbc03e\",\"type\":\"BasicTicker\"}},\"id\":\"f8ab0b6b-cbc1-47ec-b90a-eccbd379d50d\",\"type\":\"LinearAxis\"},{\"attributes\":{},\"id\":\"2af9bd99-6a11-467a-a22f-607ec6880095\",\"type\":\"SaveTool\"},{\"attributes\":{},\"id\":\"0b05ab54-0d73-45e6-98cf-ebad80dbc03e\",\"type\":\"BasicTicker\"},{\"attributes\":{},\"id\":\"8dcb61c6-5fcd-43f8-bfeb-22d44ab64979\",\"type\":\"ResetTool\"},{\"attributes\":{\"active_drag\":\"auto\",\"active_inspect\":\"auto\",\"active_scroll\":\"auto\",\"active_tap\":\"auto\",\"tools\":[{\"id\":\"0c99e703-828a-4266-87a1-137d3c8c2f71\",\"type\":\"PanTool\"},{\"id\":\"7c7450b4-b1e5-439f-9414-aae0c0567e0b\",\"type\":\"WheelZoomTool\"},{\"id\":\"37c119aa-8520-443a-8345-c02a65c8e4e1\",\"type\":\"BoxZoomTool\"},{\"id\":\"2af9bd99-6a11-467a-a22f-607ec6880095\",\"type\":\"SaveTool\"},{\"id\":\"8dcb61c6-5fcd-43f8-bfeb-22d44ab64979\",\"type\":\"ResetTool\"},{\"id\":\"def36b91-b5a1-470d-b5b5-76c19f68bd18\",\"type\":\"HelpTool\"}]},\"id\":\"2cd243e9-e3ef-457f-b367-df353b322257\",\"type\":\"Toolbar\"},{\"attributes\":{},\"id\":\"def36b91-b5a1-470d-b5b5-76c19f68bd18\",\"type\":\"HelpTool\"},{\"attributes\":{\"formatter\":{\"id\":\"a3235596-2f61-496e-9298-e3dd2f582eae\",\"type\":\"BasicTickFormatter\"},\"plot\":{\"id\":\"2dbcbc8f-217e-49ae-8a08-cd7368868f88\",\"subtype\":\"Figure\",\"type\":\"Plot\"},\"ticker\":{\"id\":\"ee0c612f-7ce6-4481-945a-c5b11cb5fe6e\",\"type\":\"BasicTicker\"}},\"id\":\"d51bf93a-9dbc-4066-86a7-f036635a7845\",\"type\":\"LinearAxis\"},{\"attributes\":{\"plot\":{\"id\":\"2dbcbc8f-217e-49ae-8a08-cd7368868f88\",\"subtype\":\"Figure\",\"type\":\"Plot\"},\"ticker\":{\"id\":\"ee0c612f-7ce6-4481-945a-c5b11cb5fe6e\",\"type\":\"BasicTicker\"}},\"id\":\"afee610f-9ec9-4a66-867c-917f7dfb988d\",\"type\":\"Grid\"},{\"attributes\":{\"data_source\":{\"id\":\"aafb33ec-e21c-4fdb-84fc-36b5d45a7362\",\"type\":\"ColumnDataSource\"},\"glyph\":{\"id\":\"e3371891-97c5-4b48-b295-a8eb0742f437\",\"type\":\"Line\"},\"hover_glyph\":null,\"muted_glyph\":null,\"nonselection_glyph\":{\"id\":\"df3c8079-495a-4fa5-a69a-b23f15e77226\",\"type\":\"Line\"},\"selection_glyph\":null,\"view\":{\"id\":\"9f769536-e11f-4a49-8c44-70d425ee98dd\",\"type\":\"CDSView\"}},\"id\":\"27ccb0b1-f61d-4c24-ab11-b2fff639a520\",\"type\":\"GlyphRenderer\"},{\"attributes\":{\"callback\":null,\"end\":5,\"start\":-5},\"id\":\"0775a9cc-00b7-4c1d-9c55-c8b159780737\",\"type\":\"Range1d\"},{\"attributes\":{},\"id\":\"ee0c612f-7ce6-4481-945a-c5b11cb5fe6e\",\"type\":\"BasicTicker\"},{\"attributes\":{},\"id\":\"ec01dbb0-bf26-4006-9c2c-6c19ddea3935\",\"type\":\"LinearScale\"}],\"root_ids\":[\"2dbcbc8f-217e-49ae-8a08-cd7368868f88\"]},\"title\":\"Bokeh Application\",\"version\":\"0.12.13\"}};\n",
       "  var render_items = [{\"docid\":\"d14ad2ec-0ad0-4005-83ec-8d840e0ce980\",\"elementid\":\"087ebdb8-955a-4e99-9447-c1c60a3917ee\",\"modelid\":\"2dbcbc8f-217e-49ae-8a08-cd7368868f88\",\"notebook_comms_target\":\"d3a1835a-d89b-4633-9ecd-fa7f0f91b5a0\"}];\n",
       "  root.Bokeh.embed.embed_items_notebook(docs_json, render_items);\n",
       "\n",
       "  }\n",
       "  if (root.Bokeh !== undefined) {\n",
       "    embed_document(root);\n",
       "  } else {\n",
       "    var attempts = 0;\n",
       "    var timer = setInterval(function(root) {\n",
       "      if (root.Bokeh !== undefined) {\n",
       "        embed_document(root);\n",
       "        clearInterval(timer);\n",
       "      }\n",
       "      attempts++;\n",
       "      if (attempts > 100) {\n",
       "        console.log(\"Bokeh: ERROR: Unable to run BokehJS code because BokehJS library is missing\")\n",
       "        clearInterval(timer);\n",
       "      }\n",
       "    }, 10, root)\n",
       "  }\n",
       "})(window);"
      ],
      "application/vnd.bokehjs_exec.v0+json": ""
     },
     "metadata": {
      "application/vnd.bokehjs_exec.v0+json": {
       "id": "2dbcbc8f-217e-49ae-8a08-cd7368868f88"
      }
     },
     "output_type": "display_data"
    },
    {
     "data": {
      "text/html": [
       "<p><code>&lt;Bokeh Notebook handle for <strong>In[7]</strong>&gt;</code></p>"
      ],
      "text/plain": [
       "<bokeh.io.notebook.CommsHandle at 0x10f9a5358>"
      ]
     },
     "execution_count": 7,
     "metadata": {},
     "output_type": "execute_result"
    }
   ],
   "source": [
    "show(p, notebook_handle=True)"
   ]
  },
  {
   "cell_type": "code",
   "execution_count": 8,
   "metadata": {},
   "outputs": [
    {
     "data": {
      "application/vnd.jupyter.widget-view+json": {
       "model_id": "1c44555a85b5432c90ed94d8be3b1396",
       "version_major": 2,
       "version_minor": 0
      },
      "text/plain": [
       "A Jupyter Widget"
      ]
     },
     "metadata": {},
     "output_type": "display_data"
    },
    {
     "data": {
      "text/plain": [
       "<function __main__.update>"
      ]
     },
     "execution_count": 8,
     "metadata": {},
     "output_type": "execute_result"
    }
   ],
   "source": [
    "interact(update, m=(1,10), b=(-5,5))\n"
   ]
  },
  {
   "cell_type": "code",
   "execution_count": 11,
   "metadata": {},
   "outputs": [
    {
     "data": {
      "text/html": [
       "\n",
       "<div class=\"bk-root\">\n",
       "    <div class=\"bk-plotdiv\" id=\"5e71ff4f-3eff-4e2c-8ef1-7ef1ff1818ce\"></div>\n",
       "</div>"
      ]
     },
     "metadata": {},
     "output_type": "display_data"
    },
    {
     "data": {
      "application/javascript": [
       "(function(root) {\n",
       "  function embed_document(root) {\n",
       "    \n",
       "  var docs_json = {\"c9e99f7f-fa6c-4ed6-a4da-c1dad34f3ad2\":{\"roots\":{\"references\":[{\"attributes\":{\"source\":{\"id\":\"8508e214-e3ec-43e7-a6d4-4d9f7153143e\",\"type\":\"ColumnDataSource\"}},\"id\":\"f51f8eca-0458-4d80-846e-64cac7146e78\",\"type\":\"CDSView\"},{\"attributes\":{\"line_alpha\":0.6,\"line_color\":\"#1f77b4\",\"line_width\":3,\"x\":{\"field\":\"x\"},\"y\":{\"field\":\"y\"}},\"id\":\"f610e1d0-e012-4729-bc42-69fdccf60e7d\",\"type\":\"Line\"},{\"attributes\":{\"callback\":null,\"column_names\":[\"x\",\"y\"],\"data\":{\"x\":{\"__ndarray__\":\"AAAAAAAACMCEDz744IMHwAgffPDBBwfAjC666KKLBsAQPvjggw8GwJNNNtlkkwXAF1100UUXBcCbbLLJJpsEwB988MEHHwTAo4suuuiiA8Anm2yyySYDwKqqqqqqqgLALrrooosuAsCyySabbLIBwDbZZJNNNgHAuuiiiy66AMA++OCDDz4AwIQPPvjgg/+/jC666KKL/r+TTTbZZJP9v5tssskmm/y/o4suuuii+7+qqqqqqqr6v7LJJptssvm/uuiiiy66+L/CBx988MH3v8omm2yyyfa/0UUXXXTR9b/ZZJNNNtn0v+GDDz744PO/6KKLLrro8r/wwQcffPDxv/jggw8++PC/AAAAAAAA8L8QPvjggw/uvyB88MEHH+y/MLrooosu6r88+OCDDz7ov0w22WSTTea/XHTRRRdd5L9ssskmm2ziv3zwwQcffOC/GF100UUX3b842WSTTTbZv1BVVVVVVdW/cNFFF1100b8gm2yyySbLv2CTTTbZZMO/QBdddNFFt78AH3zwwQefvwAffPDBB58/QBdddNFFtz9gk0022WTDPzCbbLLJJss/eNFFF1100T9YVVVVVVXVPzjZZJNNNtk/GF100UUX3T988MEHH3zgP2yyySabbOI/YHTRRRdd5D9QNtlkk03mP0D44IMPPug/MLrooosu6j8gfPDBBx/sPxA++OCDD+4/AAAAAAAA8D/44IMPPvjwP/DBBx988PE/6KKLLrro8j/ggw8++ODzP9hkk0022fQ/0EUXXXTR9T/MJptsssn2P8QHH3zwwfc/vOiiiy66+D+0ySabbLL5P6yqqqqqqvo/pIsuuuii+z+cbLLJJpv8P5RNNtlkk/0/jC666KKL/j+EDz744IP/Pz744IMPPgBAuuiiiy66AEA22WSTTTYBQLLJJptssgFALrrooosuAkCsqqqqqqoCQCibbLLJJgNApIsuuuiiA0AgfPDBBx8EQJxssskmmwRAGF100UUXBUCUTTbZZJMFQBA++OCDDwZAjC666KKLBkAIH3zwwQcHQIQPPvjggwdAAAAAAAAACEA=\",\"dtype\":\"float64\",\"shape\":[100]},\"y\":{\"__ndarray__\":\"AAAAAAAAHMBGF1100UUbwIwuuuiiixrA0kUXXXTRGcAYXXTRRRcZwFx00UUXXRjAoosuuuiiF8DooosuuugWwC666KKLLhbAdNFFF110FcC66KKLLroUwP///////xPARRdddNFFE8CLLrrooosSwNFFF1100RHAF1100UUXEcBddNFFF10QwEYXXXTRRQ/A0kUXXXTRDcBcdNFFF10MwOiiiy666ArAdNFFF110CcAAAAAAAAAIwIwuuuiiiwbAGF100UUXBcCkiy666KIDwDC66KKLLgLAuuiiiy66AMCMLrrooov+v6SLLrroovu/uOiiiy66+L/QRRdddNH1v+iiiy666PK/AAAAAAAA8L8wuuiiiy7qv2B00UUXXeS/IF100UUX3b9o0UUXXXTRvyAXXXTRRbe/YBdddNFFtz940UUXXXTRPxhddNFFF90/XHTRRRdd5D8suuiiiy7qPwQAAAAAAPA/7KKLLrro8j/URRdddNH1P7zooosuuvg/pIsuuuii+z+MLrrooov+P7rooosuugBALrrooosuAkCiiy666KIDQBlddNFFFwVAjS666KKLBkABAAAAAAAIQHXRRRdddAlA6aKLLrroCkBddNFFF10MQNFFF1100Q1ASBdddNFFD0BedNFFF10QQBhddNFFFxFA0kUXXXTREUCMLrrooosSQEYXXXTRRRNAAAAAAAAAFEC66KKLLroUQHTRRRdddBVALrrooosuFkDooosuuugWQKKLLrroohdAXHTRRRddGEAZXXTRRRcZQNNFF1100RlAjS666KKLGkBHF1100UUbQAEAAAAAABxAu+iiiy66HEB10UUXXXQdQC+66KKLLh5A6aKLLrroHkCjiy666KIfQC666KKLLiBAjC666KKLIEDooosuuuggQEYXXXTRRSFAoosuuuiiIUABAAAAAAAiQF500UUXXSJAu+iiiy66IkAYXXTRRRcjQHXRRRdddCNA0kUXXXTRI0Avuuiiiy4kQIwuuuiiiyRA6aKLLrroJEBGF1100UUlQKOLLrrooiVAAAAAAAAAJkA=\",\"dtype\":\"float64\",\"shape\":[100]}}},\"id\":\"8508e214-e3ec-43e7-a6d4-4d9f7153143e\",\"type\":\"ColumnDataSource\"},{\"attributes\":{\"overlay\":{\"id\":\"c92d8ed6-ac2d-4e30-b3aa-ab8484723f1e\",\"type\":\"BoxAnnotation\"}},\"id\":\"4a4a395f-3fd3-4fc0-983a-b0b3b73b5b82\",\"type\":\"BoxZoomTool\"},{\"attributes\":{\"data_source\":{\"id\":\"8508e214-e3ec-43e7-a6d4-4d9f7153143e\",\"type\":\"ColumnDataSource\"},\"glyph\":{\"id\":\"f610e1d0-e012-4729-bc42-69fdccf60e7d\",\"type\":\"Line\"},\"hover_glyph\":null,\"muted_glyph\":null,\"nonselection_glyph\":{\"id\":\"e0a4e8a4-7da4-4beb-8905-8b5551e6a548\",\"type\":\"Line\"},\"selection_glyph\":null,\"view\":{\"id\":\"f51f8eca-0458-4d80-846e-64cac7146e78\",\"type\":\"CDSView\"}},\"id\":\"d76ff724-0322-45a0-8cff-ffa135c44183\",\"type\":\"GlyphRenderer\"},{\"attributes\":{},\"id\":\"8fd3cb73-9e85-43af-a396-5ecb9f5c974e\",\"type\":\"LinearScale\"},{\"attributes\":{},\"id\":\"ef92a870-db90-4b60-b3fd-f81f93b7566c\",\"type\":\"BasicTicker\"},{\"attributes\":{},\"id\":\"db2b4879-4679-42d1-b2cb-42278056ccd3\",\"type\":\"BasicTickFormatter\"},{\"attributes\":{},\"id\":\"8c15fc96-6350-463c-84aa-0cd389185167\",\"type\":\"BasicTickFormatter\"},{\"attributes\":{\"line_alpha\":0.1,\"line_color\":\"#1f77b4\",\"line_width\":3,\"x\":{\"field\":\"x\"},\"y\":{\"field\":\"y\"}},\"id\":\"e0a4e8a4-7da4-4beb-8905-8b5551e6a548\",\"type\":\"Line\"},{\"attributes\":{\"active_drag\":\"auto\",\"active_inspect\":\"auto\",\"active_scroll\":\"auto\",\"active_tap\":\"auto\",\"tools\":[{\"id\":\"d8a28fe0-eb62-4c59-98a5-e385b1599fe1\",\"type\":\"PanTool\"},{\"id\":\"b91aac3e-daf0-4fb4-8712-f27b848547aa\",\"type\":\"WheelZoomTool\"},{\"id\":\"4a4a395f-3fd3-4fc0-983a-b0b3b73b5b82\",\"type\":\"BoxZoomTool\"},{\"id\":\"8fb6b701-a6ef-4bdd-8757-b97b0a7232ed\",\"type\":\"SaveTool\"},{\"id\":\"a973bdd2-58ad-4f76-a7ac-e471b585cd88\",\"type\":\"ResetTool\"},{\"id\":\"4fbd5b65-bdf0-4d7b-9b52-e67c1af1c346\",\"type\":\"HelpTool\"}]},\"id\":\"d60d2c43-4dd4-4210-9e71-69a9f99e4e10\",\"type\":\"Toolbar\"},{\"attributes\":{\"callback\":null,\"end\":5,\"start\":-5},\"id\":\"4ea0de70-1f2e-428e-8c9f-8a60a0098cc7\",\"type\":\"Range1d\"},{\"attributes\":{\"plot\":null,\"text\":\"Trajectory of a ball\"},\"id\":\"18a32640-377f-4427-a829-f762c370bbc1\",\"type\":\"Title\"},{\"attributes\":{\"callback\":{\"id\":\"d1bbaae9-3456-45fd-bd4f-5d0e705454cd\",\"type\":\"CustomJS\"},\"end\":6,\"start\":-3.0,\"step\":0.1,\"title\":\"b\",\"value\":1},\"id\":\"571703ef-8e46-45eb-aef9-0c298236cb78\",\"type\":\"Slider\"},{\"attributes\":{\"args\":{\"slider_b\":{\"id\":\"571703ef-8e46-45eb-aef9-0c298236cb78\",\"type\":\"Slider\"},\"slider_m\":{\"id\":\"8cd67a97-22a2-42a3-9afe-49e8056c4d25\",\"type\":\"Slider\"},\"source\":{\"id\":\"8508e214-e3ec-43e7-a6d4-4d9f7153143e\",\"type\":\"ColumnDataSource\"}},\"code\":\"\\n    var data = source.data;\\n    var m = slider_m.value;\\n    var b = slider_b.value;\\n    x = data['x']\\n    y = data['y']\\n    for (i = 0; i < x.length; i++) {\\n        y[i] = m*x[i] + b;\\n    }\\n    source.change.emit();\\n\"},\"id\":\"d1bbaae9-3456-45fd-bd4f-5d0e705454cd\",\"type\":\"CustomJS\"},{\"attributes\":{\"callback\":{\"id\":\"d1bbaae9-3456-45fd-bd4f-5d0e705454cd\",\"type\":\"CustomJS\"},\"end\":6,\"start\":-3.0,\"step\":0.1,\"title\":\"m\",\"value\":1},\"id\":\"8cd67a97-22a2-42a3-9afe-49e8056c4d25\",\"type\":\"Slider\"},{\"attributes\":{},\"id\":\"a973bdd2-58ad-4f76-a7ac-e471b585cd88\",\"type\":\"ResetTool\"},{\"attributes\":{},\"id\":\"8fb6b701-a6ef-4bdd-8757-b97b0a7232ed\",\"type\":\"SaveTool\"},{\"attributes\":{},\"id\":\"d8a28fe0-eb62-4c59-98a5-e385b1599fe1\",\"type\":\"PanTool\"},{\"attributes\":{\"bottom_units\":\"screen\",\"fill_alpha\":{\"value\":0.5},\"fill_color\":{\"value\":\"lightgrey\"},\"left_units\":\"screen\",\"level\":\"overlay\",\"line_alpha\":{\"value\":1.0},\"line_color\":{\"value\":\"black\"},\"line_dash\":[4,4],\"line_width\":{\"value\":2},\"plot\":null,\"render_mode\":\"css\",\"right_units\":\"screen\",\"top_units\":\"screen\"},\"id\":\"c92d8ed6-ac2d-4e30-b3aa-ab8484723f1e\",\"type\":\"BoxAnnotation\"},{\"attributes\":{\"dimension\":1,\"plot\":{\"id\":\"4c0b7870-88da-49df-89ba-931612658d6c\",\"subtype\":\"Figure\",\"type\":\"Plot\"},\"ticker\":{\"id\":\"ef92a870-db90-4b60-b3fd-f81f93b7566c\",\"type\":\"BasicTicker\"}},\"id\":\"c560a0c2-b8c5-4b40-9e08-37c3de5d3811\",\"type\":\"Grid\"},{\"attributes\":{},\"id\":\"b91aac3e-daf0-4fb4-8712-f27b848547aa\",\"type\":\"WheelZoomTool\"},{\"attributes\":{\"formatter\":{\"id\":\"8c15fc96-6350-463c-84aa-0cd389185167\",\"type\":\"BasicTickFormatter\"},\"plot\":{\"id\":\"4c0b7870-88da-49df-89ba-931612658d6c\",\"subtype\":\"Figure\",\"type\":\"Plot\"},\"ticker\":{\"id\":\"ef92a870-db90-4b60-b3fd-f81f93b7566c\",\"type\":\"BasicTicker\"}},\"id\":\"d4a2c05d-be72-4e62-bfd2-ef172251792d\",\"type\":\"LinearAxis\"},{\"attributes\":{\"callback\":null,\"end\":5,\"start\":-5},\"id\":\"e967e7af-db68-4724-add3-6f44f6958878\",\"type\":\"Range1d\"},{\"attributes\":{\"children\":[{\"id\":\"8cd67a97-22a2-42a3-9afe-49e8056c4d25\",\"type\":\"Slider\"}]},\"id\":\"db75ac22-a782-41e6-9ff9-76b8e56b9f8d\",\"type\":\"WidgetBox\"},{\"attributes\":{\"formatter\":{\"id\":\"db2b4879-4679-42d1-b2cb-42278056ccd3\",\"type\":\"BasicTickFormatter\"},\"plot\":{\"id\":\"4c0b7870-88da-49df-89ba-931612658d6c\",\"subtype\":\"Figure\",\"type\":\"Plot\"},\"ticker\":{\"id\":\"01f0bbc7-da5b-4219-ad35-b24d3c56f6de\",\"type\":\"BasicTicker\"}},\"id\":\"40cb648f-a16e-4adf-b1a7-573ac2ac143b\",\"type\":\"LinearAxis\"},{\"attributes\":{},\"id\":\"e9a579db-9052-4c40-8063-4c4afdcfcfec\",\"type\":\"LinearScale\"},{\"attributes\":{},\"id\":\"01f0bbc7-da5b-4219-ad35-b24d3c56f6de\",\"type\":\"BasicTicker\"},{\"attributes\":{\"plot\":{\"id\":\"4c0b7870-88da-49df-89ba-931612658d6c\",\"subtype\":\"Figure\",\"type\":\"Plot\"},\"ticker\":{\"id\":\"01f0bbc7-da5b-4219-ad35-b24d3c56f6de\",\"type\":\"BasicTicker\"}},\"id\":\"f94382ba-47f7-4a89-a048-8f565e920179\",\"type\":\"Grid\"},{\"attributes\":{\"below\":[{\"id\":\"40cb648f-a16e-4adf-b1a7-573ac2ac143b\",\"type\":\"LinearAxis\"}],\"left\":[{\"id\":\"d4a2c05d-be72-4e62-bfd2-ef172251792d\",\"type\":\"LinearAxis\"}],\"plot_height\":300,\"renderers\":[{\"id\":\"40cb648f-a16e-4adf-b1a7-573ac2ac143b\",\"type\":\"LinearAxis\"},{\"id\":\"f94382ba-47f7-4a89-a048-8f565e920179\",\"type\":\"Grid\"},{\"id\":\"d4a2c05d-be72-4e62-bfd2-ef172251792d\",\"type\":\"LinearAxis\"},{\"id\":\"c560a0c2-b8c5-4b40-9e08-37c3de5d3811\",\"type\":\"Grid\"},{\"id\":\"c92d8ed6-ac2d-4e30-b3aa-ab8484723f1e\",\"type\":\"BoxAnnotation\"},{\"id\":\"d76ff724-0322-45a0-8cff-ffa135c44183\",\"type\":\"GlyphRenderer\"}],\"title\":{\"id\":\"18a32640-377f-4427-a829-f762c370bbc1\",\"type\":\"Title\"},\"toolbar\":{\"id\":\"d60d2c43-4dd4-4210-9e71-69a9f99e4e10\",\"type\":\"Toolbar\"},\"x_range\":{\"id\":\"4ea0de70-1f2e-428e-8c9f-8a60a0098cc7\",\"type\":\"Range1d\"},\"x_scale\":{\"id\":\"e9a579db-9052-4c40-8063-4c4afdcfcfec\",\"type\":\"LinearScale\"},\"y_range\":{\"id\":\"e967e7af-db68-4724-add3-6f44f6958878\",\"type\":\"Range1d\"},\"y_scale\":{\"id\":\"8fd3cb73-9e85-43af-a396-5ecb9f5c974e\",\"type\":\"LinearScale\"}},\"id\":\"4c0b7870-88da-49df-89ba-931612658d6c\",\"subtype\":\"Figure\",\"type\":\"Plot\"},{\"attributes\":{},\"id\":\"4fbd5b65-bdf0-4d7b-9b52-e67c1af1c346\",\"type\":\"HelpTool\"},{\"attributes\":{\"children\":[{\"id\":\"571703ef-8e46-45eb-aef9-0c298236cb78\",\"type\":\"Slider\"}]},\"id\":\"1f238655-ccac-4c1f-b69d-2ba9e03e5e35\",\"type\":\"WidgetBox\"},{\"attributes\":{\"children\":[{\"id\":\"db75ac22-a782-41e6-9ff9-76b8e56b9f8d\",\"type\":\"WidgetBox\"},{\"id\":\"1f238655-ccac-4c1f-b69d-2ba9e03e5e35\",\"type\":\"WidgetBox\"},{\"id\":\"4c0b7870-88da-49df-89ba-931612658d6c\",\"subtype\":\"Figure\",\"type\":\"Plot\"}]},\"id\":\"70b16858-a08a-4ce1-92bd-1259a67b0d3a\",\"type\":\"Column\"}],\"root_ids\":[\"70b16858-a08a-4ce1-92bd-1259a67b0d3a\"]},\"title\":\"Bokeh Application\",\"version\":\"0.12.13\"}};\n",
       "  var render_items = [{\"docid\":\"c9e99f7f-fa6c-4ed6-a4da-c1dad34f3ad2\",\"elementid\":\"5e71ff4f-3eff-4e2c-8ef1-7ef1ff1818ce\",\"modelid\":\"70b16858-a08a-4ce1-92bd-1259a67b0d3a\"}];\n",
       "  root.Bokeh.embed.embed_items_notebook(docs_json, render_items);\n",
       "\n",
       "  }\n",
       "  if (root.Bokeh !== undefined) {\n",
       "    embed_document(root);\n",
       "  } else {\n",
       "    var attempts = 0;\n",
       "    var timer = setInterval(function(root) {\n",
       "      if (root.Bokeh !== undefined) {\n",
       "        embed_document(root);\n",
       "        clearInterval(timer);\n",
       "      }\n",
       "      attempts++;\n",
       "      if (attempts > 100) {\n",
       "        console.log(\"Bokeh: ERROR: Unable to run BokehJS code because BokehJS library is missing\")\n",
       "        clearInterval(timer);\n",
       "      }\n",
       "    }, 10, root)\n",
       "  }\n",
       "})(window);"
      ],
      "application/vnd.bokehjs_exec.v0+json": ""
     },
     "metadata": {
      "application/vnd.bokehjs_exec.v0+json": {
       "id": "70b16858-a08a-4ce1-92bd-1259a67b0d3a"
      }
     },
     "output_type": "display_data"
    }
   ],
   "source": [
    "from bokeh.layouts import column\n",
    "from bokeh.models import CustomJS, ColumnDataSource, Slider\n",
    "\n",
    "x = np.linspace(-3, 3, 100)\n",
    "y = 3*x + 2\n",
    "\n",
    "source = ColumnDataSource(data=dict(x=x, y=y))\n",
    "\n",
    "plot = figure(title=\"Trajectory of a ball\", \n",
    "           plot_height=300, plot_width=600,\n",
    "             y_range=(-5,5), x_range=(-5,5))\n",
    "           \n",
    "plot.line('x', 'y', source=source, line_width=3, line_alpha=0.6)\n",
    "\n",
    "update_curve = CustomJS(args=dict(source=source), code=\"\"\"\n",
    "    var data = source.data;\n",
    "    var m = slider_m.value;\n",
    "    var b = slider_b.value;\n",
    "    x = data['x']\n",
    "    y = data['y']\n",
    "    for (i = 0; i < x.length; i++) {\n",
    "        y[i] = m*x[i] + b;\n",
    "    }\n",
    "    source.change.emit();\n",
    "\"\"\")\n",
    "\n",
    "\n",
    "slider_m = Slider(start=-3.0, end=6, value=1, step=.1, \n",
    "                  title=\"m\", callback=update_curve)\n",
    "update_curve.args[\"slider_m\"] = slider_m\n",
    "\n",
    "slider_b = Slider(start=-3.0, end=6, value=1, step=.1, \n",
    "                  title=\"b\",callback=update_curve)\n",
    "update_curve.args[\"slider_b\"] = slider_b\n",
    "\n",
    "\n",
    "show(column(slider_m, slider_b, plot))"
   ]
  },
  {
   "cell_type": "markdown",
   "metadata": {},
   "source": [
    "3. Slope and y-intercept\n",
    "==\n",
    "\n",
    "From the previous step, we can tell that the constant $m$ determines how steep the line is. When $m$ is equal to **0**, the line is completely flat and is parallel to the **x-axis**. If When $m$ and $b$ are both set to **0**, the line is equivalent to the **x-axis**.\n",
    "\n",
    "The $m$ value controls a line's slope while the $b$ value controls a line's y-intercept. We'll break down both of these terms further. The y-intercept is the value where the line intersects the **y-axis**. When you fixed m from the last step but varied $b$, you may have noticed that the point at which the line intersected the **y-axis** varied. The line intersects the **y-axis** when $x$ is **0**. For **y=3x+1**, the y-intercept is **1**:\n",
    "\n",
    "$f(0)=3(0)+1=1$\n",
    "\n",
    "While the y-intercept describes where a line intersects the y-axis, the slope describes the steepness of the line. From the last step, the whenever we set $m$ to a positive value, the $y$ values increased as the $x$ values increased. Whenever we set $m$ to a negative value, the $y$ values decreased as the $x$ values increased. When $m$ was **0**, the **y** value was consistent throughout (and equivalent to the y-intercept).\n",
    "\n",
    "Another way to think about slope is rate of change. The rate of change is how much the **y** axis changes for a specific change in the **x** axis.\n",
    "\n",
    "$\\displaystyle m=\\frac{change \\ in \\ y}{change \\ in \\ x}=\\frac{\\Delta y}{\\Delta x}$\n",
    "\n",
    "Here's the slope calculation between the points (1,4) and (4,13), which are both points on the line $y=3x+1$:\n",
    "\n",
    "$\\displaystyle m=\\frac{change \\ in \\ y}{change \\ in \\ x}=\\frac{13-4}{4-1} = 3$\n",
    "\n",
    "When referring to unique $x$ and $y$ coordinates, an integer value is usually added to the subscripts. For example, the points (1,4) and (4,13) from the last calculation can be referred to as ($x_1,y_1$) and ($x_2,y_2$). If we don't specify what ($x_1,y_1$) and ($x_2,y_2$) are, they act as variables. We'll emphasize this further in the widget for this step and when we dive more into the calculations in the next step.\n",
    "\n",
    "By default, the following widget contains a visualization of $y=3x+1$ with the coordinate (5,16) emphasized. Try varying the $x_1$ and $x_2$ values and observing the visualization of the rate of change. Both of the coordinates ($x_1,y_1$) and ($y_1,y_2$) are emphasized on the line. The calculation for the rate of change is also shown in the title of the plot. You'll notice that no matter what the coordinates are, the rate of change between them is always **3**.\n",
    "\n",
    "\n"
   ]
  },
  {
   "cell_type": "markdown",
   "metadata": {},
   "source": [
    "4. Math Behind Slope\n",
    "==\n",
    "\n",
    "If we calculate the rate of change between any points on a line, it will always equal the function's slope. Let's show this for the more general case. In the following math block, ($x_1,y_1$) and ($x_2,y_2$) represent any **2** coordinates on a line:\n",
    "\n",
    "$$y_1=mx_1+b$$\n",
    "\n",
    "\n",
    "We can subtract both of these equations to get:\n",
    "\n",
    "$$y_1-y_2 = mx_1 - mx_2+b-b$$\n",
    "\n",
    "$$y_1 - y_2 = m(x_1 - x_2)$$\n",
    "\n",
    "$$m=\\frac{y_1 - y_2}{x_1-x_2}$$\n",
    "\n",
    "While $y_1 - y_2$ represents $\\Delta y$, $x_1 - x_2$ represents $\\Delta x$. Let's now calculate the slope for a few more points that lie on $y=3x+1$.\n"
   ]
  },
  {
   "cell_type": "markdown",
   "metadata": {},
   "source": [
    "\n",
    "5. Nonlinear function\n",
    "==\n",
    "\n",
    "So far, we've been working with linear functions, where we can determine the slope of the function from the equation itself. If we step back to our ball trajectory equation, however, you'll notice that it doesn't match the form $y=mx+b$:\n",
    "\n",
    "$$-(x^2) + 3x -1 $$\n",
    "\n",
    "\n",
    "This is because this function is a **nonlinear function**. Nonlinear functions don't represent straight lines -- they represent curves like the one we plotted in the first step of this mission. The outputs **y** of a nonlinear function are not proportional to the input values **x**. An increment in **x** doesn't result in a constant increment in **y**.\n",
    "\n",
    "Whenever **x** is raised to a power not equal to **1**, we have a non-linear function. Here are some more examples of nonlinear functions:\n",
    "\n",
    "$$y=x^3$$\n",
    "\n",
    "$$y=x^3+3x^2+2x-1$$\n",
    "\n",
    "$$y=\\frac{1}{-x^2}$$\n",
    "\n",
    "$$y=\\sqrt{x}$$\n",
    "\n",
    "In the following widget, try varying the $x_1$ and $x_2$ values and observe how the slope changes throughout."
   ]
  },
  {
   "cell_type": "markdown",
   "metadata": {},
   "source": [
    "6. Secant Lines\n",
    "==\n",
    "\n",
    "As you varied $x_1$ and $x_2$, the slope between the **2** points varied drastically. Because straight, linear functions have a constant slope throughout, we know the slope at any point on the line. If we knew that the relationship between temperature and wind speed was linear, we could predict what the wind speed would be at any temperature by sampling two points and calculating the slope.\n",
    "\n",
    "If the relationship was nonlinear instead, we can't predict what the wind speed would be at any particular temperature just by sampling **2** points and using the slope between them (because the slope changes drastically depending on which **2** points you pick). When we calculate the slope between **2** points on a curve, we're really calculating the slope between the line that intersects both of those points.\n",
    "\n",
    "If you recall, the equation for a linear function is $y=mx+b$. If we know the values for **m**, **x**, and **y**, we can calculate **b**, the y-intercept, using some arithmetic. Let's walk through the calculation for the line connecting the points at the **x** values **0** and **1**.\n",
    "\n",
    "First, we state what we know.\n",
    "\n",
    "$$y=-(x^2)+3x-1$$\n",
    "\n",
    "$$x_1 = 0$$\n",
    "\n",
    "$$x_2 = 1$$\n",
    "\n",
    "We use $y=-(x^2)+3x-1$ to calculate $y_1$ and $y_2$.\n",
    "\n",
    "$$y_1 = 0+ 0-1 = -1$$\n",
    "\n",
    "$$y_2=-1+3-1 =1$$\n",
    "\n",
    "\n",
    "We use the ($x,y$) coordinates to solve for the slope.\n",
    "\n",
    "$$m=\\frac{y_2 - y_1}{x_2 - x_1} = 2$$\n",
    "\n",
    "\n",
    "Because both ($x_1,y_1$) and ($x_2,y_2$) are points on the line connecting both points, we can use either one to calculate the y-intercept value ($b$).\n",
    "\n",
    "$$y_1 = m x_1 + b$$\n",
    "\n",
    "$$-1 = 2(0) + b$$\n",
    "\n",
    "$$b\n",
    "\n",
    "$b=−1$\n",
    "\n",
    "\n",
    "Finally, we can use the slope and the y-intercept to declare the equation for the line connecting both points:\n",
    "\n",
    "$y=2x−1$\n",
    "\n",
    "A line that intersects **2** points on a curve is known as a **secant line**. Let's practice creating some secant lines for our curve. We've started writing the function **draw_secant()** for you already, which right now just plots our nonlinear function between the x-values -20 and 30."
   ]
  },
  {
   "cell_type": "code",
   "execution_count": 12,
   "metadata": {},
   "outputs": [
    {
     "data": {
      "image/png": "[encoded data removed]",
      "text/plain": [
       "<matplotlib.figure.Figure at 0x10fe532e8>"
      ]
     },
     "metadata": {},
     "output_type": "display_data"
    },
    {
     "data": {
      "image/png": "[encoded data removed]",
      "text/plain": [
       "<matplotlib.figure.Figure at 0x10fe53240>"
      ]
     },
     "metadata": {},
     "output_type": "display_data"
    },
    {
     "data": {
      "image/png": "[encoded data removed]",
      "text/plain": [
       "<matplotlib.figure.Figure at 0x1a15e76d30>"
      ]
     },
     "metadata": {},
     "output_type": "display_data"
    }
   ],
   "source": [
    "import seaborn\n",
    "seaborn.set(style='darkgrid')\n",
    "\n",
    "def draw_secant(x_values):\n",
    "    x = np.linspace(-20,30,100)\n",
    "    y = -1*(x**2) + x*3 - 1\n",
    "    plt.plot(x,y)\n",
    "    \n",
    "    x_0 = x_values[0]\n",
    "    x_1 = x_values[1]\n",
    "    y_0 = -1*(x_0**2) + x_0*3 - 1\n",
    "    y_1 = -1*(x_1**2) + x_1*3 - 1\n",
    "    m = (y_1 - y_0) / (x_1 - x_0)\n",
    "    b = y_1 - m*x_1\n",
    "    \n",
    "    y_secant = x*m + b\n",
    "    plt.plot(x, y_secant, c='green')\n",
    "    plt.show()\n",
    "draw_secant([3,5])\n",
    "draw_secant([3,10])\n",
    "draw_secant([3,15])"
   ]
  },
  {
   "cell_type": "code",
   "execution_count": 23,
   "metadata": {},
   "outputs": [
    {
     "data": {
      "text/html": [
       "\n",
       "<div class=\"bk-root\">\n",
       "    <div class=\"bk-plotdiv\" id=\"1c791c9c-b263-4b24-8282-c930601deab5\"></div>\n",
       "</div>"
      ]
     },
     "metadata": {},
     "output_type": "display_data"
    },
    {
     "data": {
      "application/javascript": [
       "(function(root) {\n",
       "  function embed_document(root) {\n",
       "    \n",
       "  var docs_json = {\"c4fb9fe1-8be8-4e44-9475-9308aba91cad\":{\"roots\":{\"references\":[{\"attributes\":{\"line_alpha\":0.1,\"line_color\":\"#1f77b4\",\"line_width\":3,\"x\":{\"field\":\"x\"},\"y\":{\"field\":\"y\"}},\"id\":\"ba0d3468-3a3d-4da4-91f1-89dee10b1e98\",\"type\":\"Line\"},{\"attributes\":{\"formatter\":{\"id\":\"1b79b0ed-014c-4a62-80ae-592d306a7c13\",\"type\":\"BasicTickFormatter\"},\"plot\":{\"id\":\"1d726f6b-2518-4ca6-a835-7757f751cd9e\",\"subtype\":\"Figure\",\"type\":\"Plot\"},\"ticker\":{\"id\":\"838e5974-ada5-4e98-a2f0-d38587f08fa1\",\"type\":\"BasicTicker\"}},\"id\":\"26756d19-4b7d-4148-a940-531f68a00ceb\",\"type\":\"LinearAxis\"},{\"attributes\":{\"bottom_units\":\"screen\",\"fill_alpha\":{\"value\":0.5},\"fill_color\":{\"value\":\"lightgrey\"},\"left_units\":\"screen\",\"level\":\"overlay\",\"line_alpha\":{\"value\":1.0},\"line_color\":{\"value\":\"black\"},\"line_dash\":[4,4],\"line_width\":{\"value\":2},\"plot\":null,\"render_mode\":\"css\",\"right_units\":\"screen\",\"top_units\":\"screen\"},\"id\":\"6876bce0-b906-41db-9427-f5a88b670dc5\",\"type\":\"BoxAnnotation\"},{\"attributes\":{\"line_alpha\":0.1,\"line_color\":\"#1f77b4\",\"line_width\":3,\"x\":{\"field\":\"x\"},\"y\":{\"field\":\"y\"}},\"id\":\"0f533a81-1f9a-45a6-a6c8-8341b2821123\",\"type\":\"Line\"},{\"attributes\":{\"formatter\":{\"id\":\"d7fa143c-d5fc-4eda-b586-352170c50c16\",\"type\":\"BasicTickFormatter\"},\"plot\":{\"id\":\"1d726f6b-2518-4ca6-a835-7757f751cd9e\",\"subtype\":\"Figure\",\"type\":\"Plot\"},\"ticker\":{\"id\":\"15d5ce67-8582-4389-ba05-b21c01d0b35d\",\"type\":\"BasicTicker\"}},\"id\":\"b9800478-0be3-49a7-b47a-828d730e15df\",\"type\":\"LinearAxis\"},{\"attributes\":{\"children\":[{\"id\":\"ac05ff17-f611-4956-952c-8c0c082cc23b\",\"type\":\"WidgetBox\"},{\"id\":\"4ac01d40-b69a-48ab-b33c-64118469cc80\",\"type\":\"WidgetBox\"},{\"id\":\"1d726f6b-2518-4ca6-a835-7757f751cd9e\",\"subtype\":\"Figure\",\"type\":\"Plot\"}]},\"id\":\"79d81a53-ac2c-4fd1-9fbb-d0b1e41336db\",\"type\":\"Column\"},{\"attributes\":{\"callback\":null,\"column_names\":[\"x\",\"y\"],\"data\":{\"x\":{\"__ndarray__\":\"AAAAAAAANMDU+pUCtX4zwKj1KwVq/TLAfPDBBx98MsBQ61cK1PoxwCTm7QyJeTHA+OCDDz74MMDM2xkS83YwwECtXylQ6y/A6KKLLrroLsCQmLczJOYtwDiO4ziO4yzA4YMPPvjgK8CJeTtDYt4qwDFvZ0jM2ynA2WSTTTbZKMCBWr9SoNYnwClQ61cK1CbA0UUXXXTRJcB5O0Ni3s4kwCExb2dIzCPAySabbLLJIsBxHMdxHMchwBkS83aGxCDAhA8++OCDH8DU+pUCtX4dwCTm7QyJeRvAdNFFF110GcDEvJ0hMW8XwBSo9SsFahXAZJNNNtlkE8C0fqVArV8RwAjU+pUCtQ7AqKqqqqqqCsBIgVq/UqAGwOhXCtT6lQLAEF100UUX/b9QCtT6lQL1vyBvZ0jM2+m/QJNNNtlk07+Ab2dIzNvJP2CBWr9SoOY/cJNNNtlk8z8w5u0MiXn7P3gcx3EcxwFA2EUXXXTRBUA4b2dIzNsJQJiYtzMk5g1A+OCDDz74EECo9SsFav0SQFgK1PqVAhVACB988MEHF0C4MyTm7QwZQGhIzNsZEhtAGF100UUXHUDIcRzHcRwfQDxDYt7OkCBAlE022WSTIUDsVwrU+pUiQERi3s6QmCNAnGyyySabJED0dobEvJ0lQEyBWr9SoCZApIsuuuiiJ0D8lQK1fqUoQFSg1q8UqClArKqqqqqqKkAEtX6lQK0rQFy/UqDWryxAtMkmm2yyLUAM1PqVArUuQGTezpCYty9AXnTRRRddMECKeTtDYt4wQLZ+pUCtXzFA4oMPPvjgMUAOiXk7Q2IyQDqO4ziO4zJAZpNNNtlkM0CSmLczJOYzQL6dITFvZzRA6qKLLrroNEAWqPUrBWo1QEKtXylQ6zVAbrLJJptsNkCatzMk5u02QMa8nSExbzdA8sEHH3zwN0Aex3Ecx3E4QErM2xkS8zhAdtFFF110OUCi1q8UqPU5QM7bGRLzdjpA+uCDDz74OkAm5u0MiXk7QFLrVwrU+jtAfPDBBx98PECo9SsFav08QNT6lQK1fj1AAAAAAAAAPkA=\",\"dtype\":\"float64\",\"shape\":[100]},\"y\":{\"__ndarray__\":\"AAAAAADQfMBw14hBm3h7wIo5PRhgKXrAUSYdhE7ieMDDnSiFZqN3wOGfXxuobHbAqizCRhM+dcAeRFAHqBd0wD7mCV1m+XLAChPvR07jccCByv/HX9VwwEYZeLo1n2/A5bJHD/+jbcDYYW6OG7lrwCIm7DeL3mnAxP/AC04UaMC77uwJZFpmwAvzbzLNsGTAsQxKhYkXY8CuO3sCmY5hwAOAA6r7FWDAXLPF92JbXcBgkTLwdKtawBKaTT0tHFjAdc0W34utVcCEK47VkF9TwEC0syA8MlHAVs8OgRtLTsCIixJqC3NKwBSdcvxH3EbA/gMvONGGQ8BDwEcdp3JAwMmjeVeTPzvAxHEcx3EcNsB36neJ6XsxwMQbGD31uyrAC7ixDEqFI8CEU3kDo6cawNLhcTgXTxDAATaacOEBAMD68K8w+NLbvwaQozpj4eM/wuBEG4ys8j8ATq1t0T7zP3gfFikDT+c/MGiHwI1l0L9Qb1mg3QP8vxDYDX72Cw7ABCfaYGQVGcB6BshmmZciwOJOlEKzqSnAXvbo4X/gMMACcEB1v241wF6UUFuYfzrAubEMSoUJQMCfbs0PixRDwOGA6n7dYEbAgehjl3zuScB7pTlZaL1NwOjbNWLQ5lDAwg997JIPU8BKbnLL+1hVwH73Ff8Kw1fAYqtnh8BNWsD0iWdkHPlcwDKTFZYexV/AkOM4juNYYcDeEr77it9iwINXmpOFdmTAfrHNVdMdZsDSIFhCdNVnwHulOVlonWnAfT9ymq91a8DU7gEGSl5twIKz6Js3V2/AxUYTLjywcMByvl0jBr1xwM3A06350XLA0k11zRbvc8CDZUKCXRR1wN8HO8zNQXbA5zRfq2d3d8Cb7K4fK7V4wPouKikY+3nABPzQxy5Je8C7U6P7bp98wB02ocTY/X3AKKPKImxkf8BxzQ+LlGmAwKMOUM8HJYHAKxUm3o/kgcAI4ZG3LKiCwDxyk1veb4PAxMgqyqQ7hMCk5FcDgAuFwNjFGgdw34XAXmxz1XS3hsA/2GFujpOHwHQJ5tG8c4jAAAAAAABYicA=\",\"dtype\":\"float64\",\"shape\":[100]}}},\"id\":\"f62abebf-c826-4364-830a-d59c65de55cb\",\"type\":\"ColumnDataSource\"},{\"attributes\":{},\"id\":\"8878a262-7481-44fc-89c9-fb6f30da62b2\",\"type\":\"HelpTool\"},{\"attributes\":{\"below\":[{\"id\":\"b9800478-0be3-49a7-b47a-828d730e15df\",\"type\":\"LinearAxis\"}],\"left\":[{\"id\":\"26756d19-4b7d-4148-a940-531f68a00ceb\",\"type\":\"LinearAxis\"}],\"plot_height\":300,\"renderers\":[{\"id\":\"b9800478-0be3-49a7-b47a-828d730e15df\",\"type\":\"LinearAxis\"},{\"id\":\"ad53e955-57b3-4761-8d0f-9448cc8081b2\",\"type\":\"Grid\"},{\"id\":\"26756d19-4b7d-4148-a940-531f68a00ceb\",\"type\":\"LinearAxis\"},{\"id\":\"71dd1253-e950-4d86-ad5e-cba0a3ed258f\",\"type\":\"Grid\"},{\"id\":\"6876bce0-b906-41db-9427-f5a88b670dc5\",\"type\":\"BoxAnnotation\"},{\"id\":\"cbafad96-6794-4d9c-9cf2-7b8098e610e8\",\"type\":\"GlyphRenderer\"},{\"id\":\"caf49739-fb47-4631-a3a3-f2ca638c7965\",\"type\":\"GlyphRenderer\"}],\"title\":{\"id\":\"4b0355f3-f2e6-4233-afb0-c06a37cd7ed1\",\"type\":\"Title\"},\"toolbar\":{\"id\":\"ca85d7bc-a96f-48b4-bcde-63c94a485448\",\"type\":\"Toolbar\"},\"x_range\":{\"id\":\"5709bc21-3d12-4794-ba9c-a3cc017f9646\",\"type\":\"Range1d\"},\"x_scale\":{\"id\":\"78ced5e5-876a-4723-bfd8-23622f57b135\",\"type\":\"LinearScale\"},\"y_range\":{\"id\":\"1dffae41-9eaf-4529-82d4-ff292ab8e79e\",\"type\":\"Range1d\"},\"y_scale\":{\"id\":\"c50cac12-cab2-4523-b354-be75fa09fdf4\",\"type\":\"LinearScale\"}},\"id\":\"1d726f6b-2518-4ca6-a835-7757f751cd9e\",\"subtype\":\"Figure\",\"type\":\"Plot\"},{\"attributes\":{},\"id\":\"d7fa143c-d5fc-4eda-b586-352170c50c16\",\"type\":\"BasicTickFormatter\"},{\"attributes\":{},\"id\":\"78ced5e5-876a-4723-bfd8-23622f57b135\",\"type\":\"LinearScale\"},{\"attributes\":{},\"id\":\"67fa3b61-9da7-4f56-a142-e49db537df60\",\"type\":\"WheelZoomTool\"},{\"attributes\":{},\"id\":\"7f547e28-5135-4927-b290-f7a49d0f7ed2\",\"type\":\"ResetTool\"},{\"attributes\":{},\"id\":\"15d5ce67-8582-4389-ba05-b21c01d0b35d\",\"type\":\"BasicTicker\"},{\"attributes\":{\"children\":[{\"id\":\"98ba60ae-f10e-4c4d-b67d-058f8fcb2f12\",\"type\":\"Slider\"}]},\"id\":\"4ac01d40-b69a-48ab-b33c-64118469cc80\",\"type\":\"WidgetBox\"},{\"attributes\":{\"dimension\":1,\"plot\":{\"id\":\"1d726f6b-2518-4ca6-a835-7757f751cd9e\",\"subtype\":\"Figure\",\"type\":\"Plot\"},\"ticker\":{\"id\":\"838e5974-ada5-4e98-a2f0-d38587f08fa1\",\"type\":\"BasicTicker\"}},\"id\":\"71dd1253-e950-4d86-ad5e-cba0a3ed258f\",\"type\":\"Grid\"},{\"attributes\":{\"children\":[{\"id\":\"614fc664-1182-47c5-8136-f56543f809d5\",\"type\":\"Slider\"}]},\"id\":\"ac05ff17-f611-4956-952c-8c0c082cc23b\",\"type\":\"WidgetBox\"},{\"attributes\":{\"active_drag\":\"auto\",\"active_inspect\":\"auto\",\"active_scroll\":\"auto\",\"active_tap\":\"auto\",\"tools\":[{\"id\":\"342c1cb3-451f-422d-9d7a-057c72996a60\",\"type\":\"PanTool\"},{\"id\":\"67fa3b61-9da7-4f56-a142-e49db537df60\",\"type\":\"WheelZoomTool\"},{\"id\":\"8262afe5-d736-4f15-84c3-28aa224b5840\",\"type\":\"BoxZoomTool\"},{\"id\":\"4b4dfd35-39ca-4320-a404-cafab530fa07\",\"type\":\"SaveTool\"},{\"id\":\"7f547e28-5135-4927-b290-f7a49d0f7ed2\",\"type\":\"ResetTool\"},{\"id\":\"8878a262-7481-44fc-89c9-fb6f30da62b2\",\"type\":\"HelpTool\"}]},\"id\":\"ca85d7bc-a96f-48b4-bcde-63c94a485448\",\"type\":\"Toolbar\"},{\"attributes\":{\"callback\":null,\"end\":30,\"start\":-20},\"id\":\"5709bc21-3d12-4794-ba9c-a3cc017f9646\",\"type\":\"Range1d\"},{\"attributes\":{},\"id\":\"1b79b0ed-014c-4a62-80ae-592d306a7c13\",\"type\":\"BasicTickFormatter\"},{\"attributes\":{\"callback\":null,\"column_names\":[\"x\",\"y\"],\"data\":{\"x\":{\"__ndarray__\":\"AAAAAAAANMDU+pUCtX4zwKj1KwVq/TLAfPDBBx98MsBQ61cK1PoxwCTm7QyJeTHA+OCDDz74MMDM2xkS83YwwECtXylQ6y/A6KKLLrroLsCQmLczJOYtwDiO4ziO4yzA4YMPPvjgK8CJeTtDYt4qwDFvZ0jM2ynA2WSTTTbZKMCBWr9SoNYnwClQ61cK1CbA0UUXXXTRJcB5O0Ni3s4kwCExb2dIzCPAySabbLLJIsBxHMdxHMchwBkS83aGxCDAhA8++OCDH8DU+pUCtX4dwCTm7QyJeRvAdNFFF110GcDEvJ0hMW8XwBSo9SsFahXAZJNNNtlkE8C0fqVArV8RwAjU+pUCtQ7AqKqqqqqqCsBIgVq/UqAGwOhXCtT6lQLAEF100UUX/b9QCtT6lQL1vyBvZ0jM2+m/QJNNNtlk07+Ab2dIzNvJP2CBWr9SoOY/cJNNNtlk8z8w5u0MiXn7P3gcx3EcxwFA2EUXXXTRBUA4b2dIzNsJQJiYtzMk5g1A+OCDDz74EECo9SsFav0SQFgK1PqVAhVACB988MEHF0C4MyTm7QwZQGhIzNsZEhtAGF100UUXHUDIcRzHcRwfQDxDYt7OkCBAlE022WSTIUDsVwrU+pUiQERi3s6QmCNAnGyyySabJED0dobEvJ0lQEyBWr9SoCZApIsuuuiiJ0D8lQK1fqUoQFSg1q8UqClArKqqqqqqKkAEtX6lQK0rQFy/UqDWryxAtMkmm2yyLUAM1PqVArUuQGTezpCYty9AXnTRRRddMECKeTtDYt4wQLZ+pUCtXzFA4oMPPvjgMUAOiXk7Q2IyQDqO4ziO4zJAZpNNNtlkM0CSmLczJOYzQL6dITFvZzRA6qKLLrroNEAWqPUrBWo1QEKtXylQ6zVAbrLJJptsNkCatzMk5u02QMa8nSExbzdA8sEHH3zwN0Aex3Ecx3E4QErM2xkS8zhAdtFFF110OUCi1q8UqPU5QM7bGRLzdjpA+uCDDz74OkAm5u0MiXk7QFLrVwrU+jtAfPDBBx98PECo9SsFav08QNT6lQK1fj1AAAAAAAAAPkA=\",\"dtype\":\"float64\",\"shape\":[100]},\"y\":{\"__ndarray__\":\"AAAAAACAXECJeTtDYt5bQBLzdobEPFtAm2yyySabWkAk5u0MiflZQK1fKVDrV1lANtlkk022WEC/UqDWrxRYQEjM2xkSc1dA0UUXXXTRVkBav1Kg1i9WQOM4juM4jlVAbbLJJpvsVED2KwVq/UpUQH+lQK1fqVNACB988MEHU0CQmLczJGZSQBoS83aGxFFAoosuuugiUUAsBWr9SoFQQGn9SoFav09Ae/DBBx98TkCN4ziO4zhNQJ/WrxSo9UtAsskmm2yySkDEvJ0hMW9JQNavFKj1K0hA6KKLLrroRkD6lQK1fqVFQAyJeTtDYkRAHnzwwQcfQ0Awb2dIzNtBQEJi3s6QmEBAqaqqqqqqPkDNkJi3MyQ8QPF2hsS8nTlAFV100UUXN0A5Q2LezpA0QF0pUOtXCjJAAh988MEHL0BK61cK1PopQJK3MyTm7SRAtAcffPDBH0BEoNavFKgVQKhxHMdxHAdAQBZddNFF1z8YLAVq/UoBwHz9SoFavxLA2GSTTTbZHMAk5u0MiXkjwNwZEvN2hijAlE022WSTLcCmQK1fKVAxwIJav1Kg1jPAXnTRRRddNsA6juM4juM4wBao9SsFajvA8sEHH3zwPcDn7QyJeTtAwNX6lQK1fkHAwwcffPDBQsCxFKj1KwVEwJ8hMW9nSEXAjS666KKLRsB7O0Ni3s5HwGhIzNsZEknAWFVVVVVVSsBEYt7OkJhLwDRvZ0jM20zAIHzwwQcfTsAQiXk7Q2JPwP5KgVq/UlDAdtFFF130UMDsVwrU+pVRwGTezpCYN1LA2mSTTTbZUsBS61cK1HpTwMhxHMdxHFTAQPjggw++VMC2fqVArV9VwC4Fav1KAVbApIsuuuiiVsAcEvN2hkRXwJKYtzMk5lfACh988MGHWMCApUCtXylZwPgrBWr9ylnAbrLJJptsWsDmOI7jOA5bwFy/UqDWr1vA1EUXXXRRXMBKzNsZEvNcwMJSoNavlF3AONlkk002XsCwXylQ69dewCbm7QyJeV/ATjbZZJMNYMCJeTtDYl5gwMS8nSExr2DAAAAAAAAAYcA=\",\"dtype\":\"float64\",\"shape\":[100]}}},\"id\":\"a1735b44-f911-4ad4-8985-40a290599fb5\",\"type\":\"ColumnDataSource\"},{\"attributes\":{},\"id\":\"342c1cb3-451f-422d-9d7a-057c72996a60\",\"type\":\"PanTool\"},{\"attributes\":{\"callback\":{\"id\":\"82ea0bba-26f5-4631-b7c1-684099a17bdf\",\"type\":\"CustomJS\"},\"end\":10,\"start\":-30.0,\"step\":0.1,\"title\":\"X2\",\"value\":3},\"id\":\"98ba60ae-f10e-4c4d-b67d-058f8fcb2f12\",\"type\":\"Slider\"},{\"attributes\":{\"data_source\":{\"id\":\"f62abebf-c826-4364-830a-d59c65de55cb\",\"type\":\"ColumnDataSource\"},\"glyph\":{\"id\":\"29d15916-3956-49f4-a9cb-81d480bda296\",\"type\":\"Line\"},\"hover_glyph\":null,\"muted_glyph\":null,\"nonselection_glyph\":{\"id\":\"ba0d3468-3a3d-4da4-91f1-89dee10b1e98\",\"type\":\"Line\"},\"selection_glyph\":null,\"view\":{\"id\":\"d60b8623-ae05-4652-b8e1-276440d606ff\",\"type\":\"CDSView\"}},\"id\":\"cbafad96-6794-4d9c-9cf2-7b8098e610e8\",\"type\":\"GlyphRenderer\"},{\"attributes\":{\"callback\":{\"id\":\"82ea0bba-26f5-4631-b7c1-684099a17bdf\",\"type\":\"CustomJS\"},\"end\":10,\"start\":-30.0,\"step\":0.1,\"title\":\"X1\",\"value\":1},\"id\":\"614fc664-1182-47c5-8136-f56543f809d5\",\"type\":\"Slider\"},{\"attributes\":{\"line_alpha\":0.6,\"line_color\":\"#1f77b4\",\"line_width\":3,\"x\":{\"field\":\"x\"},\"y\":{\"field\":\"y\"}},\"id\":\"29d15916-3956-49f4-a9cb-81d480bda296\",\"type\":\"Line\"},{\"attributes\":{\"args\":{\"slider1\":{\"id\":\"614fc664-1182-47c5-8136-f56543f809d5\",\"type\":\"Slider\"},\"slider2\":{\"id\":\"98ba60ae-f10e-4c4d-b67d-058f8fcb2f12\",\"type\":\"Slider\"},\"source\":{\"id\":\"a1735b44-f911-4ad4-8985-40a290599fb5\",\"type\":\"ColumnDataSource\"}},\"code\":\"\\n    var data = source.data;\\n    x = data['x']\\n    y = data['y']\\n    x_0 = slider1.value;\\n    x_1 = slider2.value;\\n    y_0 = -1*(x_0**2) + x_0*3 - 1\\n    y_1 = -1*(x_1**2) + x_1*3 - 1\\n    m = (y_1 - y_0) / (x_1 - x_0)\\n    b = y_1 - m*x_1\\n    for (i = 0; i < x.length; i++) {\\n       y[i] = x[i]*m + b\\n    }\\n    source.change.emit();\\n\"},\"id\":\"82ea0bba-26f5-4631-b7c1-684099a17bdf\",\"type\":\"CustomJS\"},{\"attributes\":{\"plot\":null,\"text\":\"Trajectory of a ball\"},\"id\":\"4b0355f3-f2e6-4233-afb0-c06a37cd7ed1\",\"type\":\"Title\"},{\"attributes\":{},\"id\":\"c50cac12-cab2-4523-b354-be75fa09fdf4\",\"type\":\"LinearScale\"},{\"attributes\":{\"callback\":null,\"end\":400,\"start\":-800},\"id\":\"1dffae41-9eaf-4529-82d4-ff292ab8e79e\",\"type\":\"Range1d\"},{\"attributes\":{\"plot\":{\"id\":\"1d726f6b-2518-4ca6-a835-7757f751cd9e\",\"subtype\":\"Figure\",\"type\":\"Plot\"},\"ticker\":{\"id\":\"15d5ce67-8582-4389-ba05-b21c01d0b35d\",\"type\":\"BasicTicker\"}},\"id\":\"ad53e955-57b3-4761-8d0f-9448cc8081b2\",\"type\":\"Grid\"},{\"attributes\":{\"source\":{\"id\":\"f62abebf-c826-4364-830a-d59c65de55cb\",\"type\":\"ColumnDataSource\"}},\"id\":\"d60b8623-ae05-4652-b8e1-276440d606ff\",\"type\":\"CDSView\"},{\"attributes\":{\"source\":{\"id\":\"a1735b44-f911-4ad4-8985-40a290599fb5\",\"type\":\"ColumnDataSource\"}},\"id\":\"3dd6afc8-cf99-4b6e-8c1a-2e8939f18d48\",\"type\":\"CDSView\"},{\"attributes\":{},\"id\":\"838e5974-ada5-4e98-a2f0-d38587f08fa1\",\"type\":\"BasicTicker\"},{\"attributes\":{\"overlay\":{\"id\":\"6876bce0-b906-41db-9427-f5a88b670dc5\",\"type\":\"BoxAnnotation\"}},\"id\":\"8262afe5-d736-4f15-84c3-28aa224b5840\",\"type\":\"BoxZoomTool\"},{\"attributes\":{},\"id\":\"4b4dfd35-39ca-4320-a404-cafab530fa07\",\"type\":\"SaveTool\"},{\"attributes\":{\"line_alpha\":0.6,\"line_color\":\"#1f77b4\",\"line_width\":3,\"x\":{\"field\":\"x\"},\"y\":{\"field\":\"y\"}},\"id\":\"dea7007c-a5f9-49a9-9ac7-6ed65fbe2aa4\",\"type\":\"Line\"},{\"attributes\":{\"data_source\":{\"id\":\"a1735b44-f911-4ad4-8985-40a290599fb5\",\"type\":\"ColumnDataSource\"},\"glyph\":{\"id\":\"dea7007c-a5f9-49a9-9ac7-6ed65fbe2aa4\",\"type\":\"Line\"},\"hover_glyph\":null,\"muted_glyph\":null,\"nonselection_glyph\":{\"id\":\"0f533a81-1f9a-45a6-a6c8-8341b2821123\",\"type\":\"Line\"},\"selection_glyph\":null,\"view\":{\"id\":\"3dd6afc8-cf99-4b6e-8c1a-2e8939f18d48\",\"type\":\"CDSView\"}},\"id\":\"caf49739-fb47-4631-a3a3-f2ca638c7965\",\"type\":\"GlyphRenderer\"}],\"root_ids\":[\"79d81a53-ac2c-4fd1-9fbb-d0b1e41336db\"]},\"title\":\"Bokeh Application\",\"version\":\"0.12.13\"}};\n",
       "  var render_items = [{\"docid\":\"c4fb9fe1-8be8-4e44-9475-9308aba91cad\",\"elementid\":\"1c791c9c-b263-4b24-8282-c930601deab5\",\"modelid\":\"79d81a53-ac2c-4fd1-9fbb-d0b1e41336db\"}];\n",
       "  root.Bokeh.embed.embed_items_notebook(docs_json, render_items);\n",
       "\n",
       "  }\n",
       "  if (root.Bokeh !== undefined) {\n",
       "    embed_document(root);\n",
       "  } else {\n",
       "    var attempts = 0;\n",
       "    var timer = setInterval(function(root) {\n",
       "      if (root.Bokeh !== undefined) {\n",
       "        embed_document(root);\n",
       "        clearInterval(timer);\n",
       "      }\n",
       "      attempts++;\n",
       "      if (attempts > 100) {\n",
       "        console.log(\"Bokeh: ERROR: Unable to run BokehJS code because BokehJS library is missing\")\n",
       "        clearInterval(timer);\n",
       "      }\n",
       "    }, 10, root)\n",
       "  }\n",
       "})(window);"
      ],
      "application/vnd.bokehjs_exec.v0+json": ""
     },
     "metadata": {
      "application/vnd.bokehjs_exec.v0+json": {
       "id": "79d81a53-ac2c-4fd1-9fbb-d0b1e41336db"
      }
     },
     "output_type": "display_data"
    },
    {
     "data": {
      "text/html": [
       "\n",
       "<div class=\"bk-root\">\n",
       "    <div class=\"bk-plotdiv\" id=\"c38a2ddb-a2d2-49e6-8668-47eb2b190db6\"></div>\n",
       "</div>"
      ]
     },
     "metadata": {},
     "output_type": "display_data"
    },
    {
     "data": {
      "application/javascript": [
       "(function(root) {\n",
       "  function embed_document(root) {\n",
       "    \n",
       "  var docs_json = {\"03ae0a7d-3753-4c9d-b13d-c783b379b2f8\":{\"roots\":{\"references\":[{\"attributes\":{\"line_alpha\":0.1,\"line_color\":\"#1f77b4\",\"line_width\":3,\"x\":{\"field\":\"x\"},\"y\":{\"field\":\"y\"}},\"id\":\"ba0d3468-3a3d-4da4-91f1-89dee10b1e98\",\"type\":\"Line\"},{\"attributes\":{\"formatter\":{\"id\":\"1b79b0ed-014c-4a62-80ae-592d306a7c13\",\"type\":\"BasicTickFormatter\"},\"plot\":{\"id\":\"1d726f6b-2518-4ca6-a835-7757f751cd9e\",\"subtype\":\"Figure\",\"type\":\"Plot\"},\"ticker\":{\"id\":\"838e5974-ada5-4e98-a2f0-d38587f08fa1\",\"type\":\"BasicTicker\"}},\"id\":\"26756d19-4b7d-4148-a940-531f68a00ceb\",\"type\":\"LinearAxis\"},{\"attributes\":{\"bottom_units\":\"screen\",\"fill_alpha\":{\"value\":0.5},\"fill_color\":{\"value\":\"lightgrey\"},\"left_units\":\"screen\",\"level\":\"overlay\",\"line_alpha\":{\"value\":1.0},\"line_color\":{\"value\":\"black\"},\"line_dash\":[4,4],\"line_width\":{\"value\":2},\"plot\":null,\"render_mode\":\"css\",\"right_units\":\"screen\",\"top_units\":\"screen\"},\"id\":\"6876bce0-b906-41db-9427-f5a88b670dc5\",\"type\":\"BoxAnnotation\"},{\"attributes\":{\"line_alpha\":0.1,\"line_color\":\"#1f77b4\",\"line_width\":3,\"x\":{\"field\":\"x\"},\"y\":{\"field\":\"y\"}},\"id\":\"0f533a81-1f9a-45a6-a6c8-8341b2821123\",\"type\":\"Line\"},{\"attributes\":{\"formatter\":{\"id\":\"d7fa143c-d5fc-4eda-b586-352170c50c16\",\"type\":\"BasicTickFormatter\"},\"plot\":{\"id\":\"1d726f6b-2518-4ca6-a835-7757f751cd9e\",\"subtype\":\"Figure\",\"type\":\"Plot\"},\"ticker\":{\"id\":\"15d5ce67-8582-4389-ba05-b21c01d0b35d\",\"type\":\"BasicTicker\"}},\"id\":\"b9800478-0be3-49a7-b47a-828d730e15df\",\"type\":\"LinearAxis\"},{\"attributes\":{\"callback\":null,\"column_names\":[\"x\",\"y\"],\"data\":{\"x\":{\"__ndarray__\":\"AAAAAAAANMDU+pUCtX4zwKj1KwVq/TLAfPDBBx98MsBQ61cK1PoxwCTm7QyJeTHA+OCDDz74MMDM2xkS83YwwECtXylQ6y/A6KKLLrroLsCQmLczJOYtwDiO4ziO4yzA4YMPPvjgK8CJeTtDYt4qwDFvZ0jM2ynA2WSTTTbZKMCBWr9SoNYnwClQ61cK1CbA0UUXXXTRJcB5O0Ni3s4kwCExb2dIzCPAySabbLLJIsBxHMdxHMchwBkS83aGxCDAhA8++OCDH8DU+pUCtX4dwCTm7QyJeRvAdNFFF110GcDEvJ0hMW8XwBSo9SsFahXAZJNNNtlkE8C0fqVArV8RwAjU+pUCtQ7AqKqqqqqqCsBIgVq/UqAGwOhXCtT6lQLAEF100UUX/b9QCtT6lQL1vyBvZ0jM2+m/QJNNNtlk07+Ab2dIzNvJP2CBWr9SoOY/cJNNNtlk8z8w5u0MiXn7P3gcx3EcxwFA2EUXXXTRBUA4b2dIzNsJQJiYtzMk5g1A+OCDDz74EECo9SsFav0SQFgK1PqVAhVACB988MEHF0C4MyTm7QwZQGhIzNsZEhtAGF100UUXHUDIcRzHcRwfQDxDYt7OkCBAlE022WSTIUDsVwrU+pUiQERi3s6QmCNAnGyyySabJED0dobEvJ0lQEyBWr9SoCZApIsuuuiiJ0D8lQK1fqUoQFSg1q8UqClArKqqqqqqKkAEtX6lQK0rQFy/UqDWryxAtMkmm2yyLUAM1PqVArUuQGTezpCYty9AXnTRRRddMECKeTtDYt4wQLZ+pUCtXzFA4oMPPvjgMUAOiXk7Q2IyQDqO4ziO4zJAZpNNNtlkM0CSmLczJOYzQL6dITFvZzRA6qKLLrroNEAWqPUrBWo1QEKtXylQ6zVAbrLJJptsNkCatzMk5u02QMa8nSExbzdA8sEHH3zwN0Aex3Ecx3E4QErM2xkS8zhAdtFFF110OUCi1q8UqPU5QM7bGRLzdjpA+uCDDz74OkAm5u0MiXk7QFLrVwrU+jtAfPDBBx98PECo9SsFav08QNT6lQK1fj1AAAAAAAAAPkA=\",\"dtype\":\"float64\",\"shape\":[100]},\"y\":{\"__ndarray__\":\"AAAAAADQfMBw14hBm3h7wIo5PRhgKXrAUSYdhE7ieMDDnSiFZqN3wOGfXxuobHbAqizCRhM+dcAeRFAHqBd0wD7mCV1m+XLAChPvR07jccCByv/HX9VwwEYZeLo1n2/A5bJHD/+jbcDYYW6OG7lrwCIm7DeL3mnAxP/AC04UaMC77uwJZFpmwAvzbzLNsGTAsQxKhYkXY8CuO3sCmY5hwAOAA6r7FWDAXLPF92JbXcBgkTLwdKtawBKaTT0tHFjAdc0W34utVcCEK47VkF9TwEC0syA8MlHAVs8OgRtLTsCIixJqC3NKwBSdcvxH3EbA/gMvONGGQ8BDwEcdp3JAwMmjeVeTPzvAxHEcx3EcNsB36neJ6XsxwMQbGD31uyrAC7ixDEqFI8CEU3kDo6cawNLhcTgXTxDAATaacOEBAMD68K8w+NLbvwaQozpj4eM/wuBEG4ys8j8ATq1t0T7zP3gfFikDT+c/MGiHwI1l0L9Qb1mg3QP8vxDYDX72Cw7ABCfaYGQVGcB6BshmmZciwOJOlEKzqSnAXvbo4X/gMMACcEB1v241wF6UUFuYfzrAubEMSoUJQMCfbs0PixRDwOGA6n7dYEbAgehjl3zuScB7pTlZaL1NwOjbNWLQ5lDAwg997JIPU8BKbnLL+1hVwH73Ff8Kw1fAYqtnh8BNWsD0iWdkHPlcwDKTFZYexV/AkOM4juNYYcDeEr77it9iwINXmpOFdmTAfrHNVdMdZsDSIFhCdNVnwHulOVlonWnAfT9ymq91a8DU7gEGSl5twIKz6Js3V2/AxUYTLjywcMByvl0jBr1xwM3A06350XLA0k11zRbvc8CDZUKCXRR1wN8HO8zNQXbA5zRfq2d3d8Cb7K4fK7V4wPouKikY+3nABPzQxy5Je8C7U6P7bp98wB02ocTY/X3AKKPKImxkf8BxzQ+LlGmAwKMOUM8HJYHAKxUm3o/kgcAI4ZG3LKiCwDxyk1veb4PAxMgqyqQ7hMCk5FcDgAuFwNjFGgdw34XAXmxz1XS3hsA/2GFujpOHwHQJ5tG8c4jAAAAAAABYicA=\",\"dtype\":\"float64\",\"shape\":[100]}}},\"id\":\"f62abebf-c826-4364-830a-d59c65de55cb\",\"type\":\"ColumnDataSource\"},{\"attributes\":{},\"id\":\"8878a262-7481-44fc-89c9-fb6f30da62b2\",\"type\":\"HelpTool\"},{\"attributes\":{\"below\":[{\"id\":\"b9800478-0be3-49a7-b47a-828d730e15df\",\"type\":\"LinearAxis\"}],\"left\":[{\"id\":\"26756d19-4b7d-4148-a940-531f68a00ceb\",\"type\":\"LinearAxis\"}],\"plot_height\":300,\"renderers\":[{\"id\":\"b9800478-0be3-49a7-b47a-828d730e15df\",\"type\":\"LinearAxis\"},{\"id\":\"ad53e955-57b3-4761-8d0f-9448cc8081b2\",\"type\":\"Grid\"},{\"id\":\"26756d19-4b7d-4148-a940-531f68a00ceb\",\"type\":\"LinearAxis\"},{\"id\":\"71dd1253-e950-4d86-ad5e-cba0a3ed258f\",\"type\":\"Grid\"},{\"id\":\"6876bce0-b906-41db-9427-f5a88b670dc5\",\"type\":\"BoxAnnotation\"},{\"id\":\"cbafad96-6794-4d9c-9cf2-7b8098e610e8\",\"type\":\"GlyphRenderer\"},{\"id\":\"caf49739-fb47-4631-a3a3-f2ca638c7965\",\"type\":\"GlyphRenderer\"}],\"title\":{\"id\":\"4b0355f3-f2e6-4233-afb0-c06a37cd7ed1\",\"type\":\"Title\"},\"toolbar\":{\"id\":\"ca85d7bc-a96f-48b4-bcde-63c94a485448\",\"type\":\"Toolbar\"},\"x_range\":{\"id\":\"5709bc21-3d12-4794-ba9c-a3cc017f9646\",\"type\":\"Range1d\"},\"x_scale\":{\"id\":\"78ced5e5-876a-4723-bfd8-23622f57b135\",\"type\":\"LinearScale\"},\"y_range\":{\"id\":\"1dffae41-9eaf-4529-82d4-ff292ab8e79e\",\"type\":\"Range1d\"},\"y_scale\":{\"id\":\"c50cac12-cab2-4523-b354-be75fa09fdf4\",\"type\":\"LinearScale\"}},\"id\":\"1d726f6b-2518-4ca6-a835-7757f751cd9e\",\"subtype\":\"Figure\",\"type\":\"Plot\"},{\"attributes\":{},\"id\":\"d7fa143c-d5fc-4eda-b586-352170c50c16\",\"type\":\"BasicTickFormatter\"},{\"attributes\":{},\"id\":\"78ced5e5-876a-4723-bfd8-23622f57b135\",\"type\":\"LinearScale\"},{\"attributes\":{},\"id\":\"67fa3b61-9da7-4f56-a142-e49db537df60\",\"type\":\"WheelZoomTool\"},{\"attributes\":{},\"id\":\"7f547e28-5135-4927-b290-f7a49d0f7ed2\",\"type\":\"ResetTool\"},{\"attributes\":{},\"id\":\"15d5ce67-8582-4389-ba05-b21c01d0b35d\",\"type\":\"BasicTicker\"},{\"attributes\":{\"dimension\":1,\"plot\":{\"id\":\"1d726f6b-2518-4ca6-a835-7757f751cd9e\",\"subtype\":\"Figure\",\"type\":\"Plot\"},\"ticker\":{\"id\":\"838e5974-ada5-4e98-a2f0-d38587f08fa1\",\"type\":\"BasicTicker\"}},\"id\":\"71dd1253-e950-4d86-ad5e-cba0a3ed258f\",\"type\":\"Grid\"},{\"attributes\":{\"active_drag\":\"auto\",\"active_inspect\":\"auto\",\"active_scroll\":\"auto\",\"active_tap\":\"auto\",\"tools\":[{\"id\":\"342c1cb3-451f-422d-9d7a-057c72996a60\",\"type\":\"PanTool\"},{\"id\":\"67fa3b61-9da7-4f56-a142-e49db537df60\",\"type\":\"WheelZoomTool\"},{\"id\":\"8262afe5-d736-4f15-84c3-28aa224b5840\",\"type\":\"BoxZoomTool\"},{\"id\":\"4b4dfd35-39ca-4320-a404-cafab530fa07\",\"type\":\"SaveTool\"},{\"id\":\"7f547e28-5135-4927-b290-f7a49d0f7ed2\",\"type\":\"ResetTool\"},{\"id\":\"8878a262-7481-44fc-89c9-fb6f30da62b2\",\"type\":\"HelpTool\"}]},\"id\":\"ca85d7bc-a96f-48b4-bcde-63c94a485448\",\"type\":\"Toolbar\"},{\"attributes\":{\"callback\":null,\"end\":30,\"start\":-20},\"id\":\"5709bc21-3d12-4794-ba9c-a3cc017f9646\",\"type\":\"Range1d\"},{\"attributes\":{},\"id\":\"1b79b0ed-014c-4a62-80ae-592d306a7c13\",\"type\":\"BasicTickFormatter\"},{\"attributes\":{\"callback\":null,\"column_names\":[\"x\",\"y\"],\"data\":{\"x\":{\"__ndarray__\":\"AAAAAAAANMDU+pUCtX4zwKj1KwVq/TLAfPDBBx98MsBQ61cK1PoxwCTm7QyJeTHA+OCDDz74MMDM2xkS83YwwECtXylQ6y/A6KKLLrroLsCQmLczJOYtwDiO4ziO4yzA4YMPPvjgK8CJeTtDYt4qwDFvZ0jM2ynA2WSTTTbZKMCBWr9SoNYnwClQ61cK1CbA0UUXXXTRJcB5O0Ni3s4kwCExb2dIzCPAySabbLLJIsBxHMdxHMchwBkS83aGxCDAhA8++OCDH8DU+pUCtX4dwCTm7QyJeRvAdNFFF110GcDEvJ0hMW8XwBSo9SsFahXAZJNNNtlkE8C0fqVArV8RwAjU+pUCtQ7AqKqqqqqqCsBIgVq/UqAGwOhXCtT6lQLAEF100UUX/b9QCtT6lQL1vyBvZ0jM2+m/QJNNNtlk07+Ab2dIzNvJP2CBWr9SoOY/cJNNNtlk8z8w5u0MiXn7P3gcx3EcxwFA2EUXXXTRBUA4b2dIzNsJQJiYtzMk5g1A+OCDDz74EECo9SsFav0SQFgK1PqVAhVACB988MEHF0C4MyTm7QwZQGhIzNsZEhtAGF100UUXHUDIcRzHcRwfQDxDYt7OkCBAlE022WSTIUDsVwrU+pUiQERi3s6QmCNAnGyyySabJED0dobEvJ0lQEyBWr9SoCZApIsuuuiiJ0D8lQK1fqUoQFSg1q8UqClArKqqqqqqKkAEtX6lQK0rQFy/UqDWryxAtMkmm2yyLUAM1PqVArUuQGTezpCYty9AXnTRRRddMECKeTtDYt4wQLZ+pUCtXzFA4oMPPvjgMUAOiXk7Q2IyQDqO4ziO4zJAZpNNNtlkM0CSmLczJOYzQL6dITFvZzRA6qKLLrroNEAWqPUrBWo1QEKtXylQ6zVAbrLJJptsNkCatzMk5u02QMa8nSExbzdA8sEHH3zwN0Aex3Ecx3E4QErM2xkS8zhAdtFFF110OUCi1q8UqPU5QM7bGRLzdjpA+uCDDz74OkAm5u0MiXk7QFLrVwrU+jtAfPDBBx98PECo9SsFav08QNT6lQK1fj1AAAAAAAAAPkA=\",\"dtype\":\"float64\",\"shape\":[100]},\"y\":{\"__ndarray__\":\"AAAAAACAXECJeTtDYt5bQBLzdobEPFtAm2yyySabWkAk5u0MiflZQK1fKVDrV1lANtlkk022WEC/UqDWrxRYQEjM2xkSc1dA0UUXXXTRVkBav1Kg1i9WQOM4juM4jlVAbbLJJpvsVED2KwVq/UpUQH+lQK1fqVNACB988MEHU0CQmLczJGZSQBoS83aGxFFAoosuuugiUUAsBWr9SoFQQGn9SoFav09Ae/DBBx98TkCN4ziO4zhNQJ/WrxSo9UtAsskmm2yySkDEvJ0hMW9JQNavFKj1K0hA6KKLLrroRkD6lQK1fqVFQAyJeTtDYkRAHnzwwQcfQ0Awb2dIzNtBQEJi3s6QmEBAqaqqqqqqPkDNkJi3MyQ8QPF2hsS8nTlAFV100UUXN0A5Q2LezpA0QF0pUOtXCjJAAh988MEHL0BK61cK1PopQJK3MyTm7SRAtAcffPDBH0BEoNavFKgVQKhxHMdxHAdAQBZddNFF1z8YLAVq/UoBwHz9SoFavxLA2GSTTTbZHMAk5u0MiXkjwNwZEvN2hijAlE022WSTLcCmQK1fKVAxwIJav1Kg1jPAXnTRRRddNsA6juM4juM4wBao9SsFajvA8sEHH3zwPcDn7QyJeTtAwNX6lQK1fkHAwwcffPDBQsCxFKj1KwVEwJ8hMW9nSEXAjS666KKLRsB7O0Ni3s5HwGhIzNsZEknAWFVVVVVVSsBEYt7OkJhLwDRvZ0jM20zAIHzwwQcfTsAQiXk7Q2JPwP5KgVq/UlDAdtFFF130UMDsVwrU+pVRwGTezpCYN1LA2mSTTTbZUsBS61cK1HpTwMhxHMdxHFTAQPjggw++VMC2fqVArV9VwC4Fav1KAVbApIsuuuiiVsAcEvN2hkRXwJKYtzMk5lfACh988MGHWMCApUCtXylZwPgrBWr9ylnAbrLJJptsWsDmOI7jOA5bwFy/UqDWr1vA1EUXXXRRXMBKzNsZEvNcwMJSoNavlF3AONlkk002XsCwXylQ69dewCbm7QyJeV/ATjbZZJMNYMCJeTtDYl5gwMS8nSExr2DAAAAAAAAAYcA=\",\"dtype\":\"float64\",\"shape\":[100]}}},\"id\":\"a1735b44-f911-4ad4-8985-40a290599fb5\",\"type\":\"ColumnDataSource\"},{\"attributes\":{},\"id\":\"342c1cb3-451f-422d-9d7a-057c72996a60\",\"type\":\"PanTool\"},{\"attributes\":{\"data_source\":{\"id\":\"f62abebf-c826-4364-830a-d59c65de55cb\",\"type\":\"ColumnDataSource\"},\"glyph\":{\"id\":\"29d15916-3956-49f4-a9cb-81d480bda296\",\"type\":\"Line\"},\"hover_glyph\":null,\"muted_glyph\":null,\"nonselection_glyph\":{\"id\":\"ba0d3468-3a3d-4da4-91f1-89dee10b1e98\",\"type\":\"Line\"},\"selection_glyph\":null,\"view\":{\"id\":\"d60b8623-ae05-4652-b8e1-276440d606ff\",\"type\":\"CDSView\"}},\"id\":\"cbafad96-6794-4d9c-9cf2-7b8098e610e8\",\"type\":\"GlyphRenderer\"},{\"attributes\":{\"line_alpha\":0.6,\"line_color\":\"#1f77b4\",\"line_width\":3,\"x\":{\"field\":\"x\"},\"y\":{\"field\":\"y\"}},\"id\":\"29d15916-3956-49f4-a9cb-81d480bda296\",\"type\":\"Line\"},{\"attributes\":{\"plot\":null,\"text\":\"Trajectory of a ball\"},\"id\":\"4b0355f3-f2e6-4233-afb0-c06a37cd7ed1\",\"type\":\"Title\"},{\"attributes\":{},\"id\":\"c50cac12-cab2-4523-b354-be75fa09fdf4\",\"type\":\"LinearScale\"},{\"attributes\":{\"callback\":null,\"end\":400,\"start\":-800},\"id\":\"1dffae41-9eaf-4529-82d4-ff292ab8e79e\",\"type\":\"Range1d\"},{\"attributes\":{\"plot\":{\"id\":\"1d726f6b-2518-4ca6-a835-7757f751cd9e\",\"subtype\":\"Figure\",\"type\":\"Plot\"},\"ticker\":{\"id\":\"15d5ce67-8582-4389-ba05-b21c01d0b35d\",\"type\":\"BasicTicker\"}},\"id\":\"ad53e955-57b3-4761-8d0f-9448cc8081b2\",\"type\":\"Grid\"},{\"attributes\":{\"source\":{\"id\":\"f62abebf-c826-4364-830a-d59c65de55cb\",\"type\":\"ColumnDataSource\"}},\"id\":\"d60b8623-ae05-4652-b8e1-276440d606ff\",\"type\":\"CDSView\"},{\"attributes\":{\"source\":{\"id\":\"a1735b44-f911-4ad4-8985-40a290599fb5\",\"type\":\"ColumnDataSource\"}},\"id\":\"3dd6afc8-cf99-4b6e-8c1a-2e8939f18d48\",\"type\":\"CDSView\"},{\"attributes\":{},\"id\":\"838e5974-ada5-4e98-a2f0-d38587f08fa1\",\"type\":\"BasicTicker\"},{\"attributes\":{\"overlay\":{\"id\":\"6876bce0-b906-41db-9427-f5a88b670dc5\",\"type\":\"BoxAnnotation\"}},\"id\":\"8262afe5-d736-4f15-84c3-28aa224b5840\",\"type\":\"BoxZoomTool\"},{\"attributes\":{},\"id\":\"4b4dfd35-39ca-4320-a404-cafab530fa07\",\"type\":\"SaveTool\"},{\"attributes\":{\"line_alpha\":0.6,\"line_color\":\"#1f77b4\",\"line_width\":3,\"x\":{\"field\":\"x\"},\"y\":{\"field\":\"y\"}},\"id\":\"dea7007c-a5f9-49a9-9ac7-6ed65fbe2aa4\",\"type\":\"Line\"},{\"attributes\":{\"data_source\":{\"id\":\"a1735b44-f911-4ad4-8985-40a290599fb5\",\"type\":\"ColumnDataSource\"},\"glyph\":{\"id\":\"dea7007c-a5f9-49a9-9ac7-6ed65fbe2aa4\",\"type\":\"Line\"},\"hover_glyph\":null,\"muted_glyph\":null,\"nonselection_glyph\":{\"id\":\"0f533a81-1f9a-45a6-a6c8-8341b2821123\",\"type\":\"Line\"},\"selection_glyph\":null,\"view\":{\"id\":\"3dd6afc8-cf99-4b6e-8c1a-2e8939f18d48\",\"type\":\"CDSView\"}},\"id\":\"caf49739-fb47-4631-a3a3-f2ca638c7965\",\"type\":\"GlyphRenderer\"}],\"root_ids\":[\"1d726f6b-2518-4ca6-a835-7757f751cd9e\"]},\"title\":\"Bokeh Application\",\"version\":\"0.12.13\"}};\n",
       "  var render_items = [{\"docid\":\"03ae0a7d-3753-4c9d-b13d-c783b379b2f8\",\"elementid\":\"c38a2ddb-a2d2-49e6-8668-47eb2b190db6\",\"modelid\":\"1d726f6b-2518-4ca6-a835-7757f751cd9e\"}];\n",
       "  root.Bokeh.embed.embed_items_notebook(docs_json, render_items);\n",
       "\n",
       "  }\n",
       "  if (root.Bokeh !== undefined) {\n",
       "    embed_document(root);\n",
       "  } else {\n",
       "    var attempts = 0;\n",
       "    var timer = setInterval(function(root) {\n",
       "      if (root.Bokeh !== undefined) {\n",
       "        embed_document(root);\n",
       "        clearInterval(timer);\n",
       "      }\n",
       "      attempts++;\n",
       "      if (attempts > 100) {\n",
       "        console.log(\"Bokeh: ERROR: Unable to run BokehJS code because BokehJS library is missing\")\n",
       "        clearInterval(timer);\n",
       "      }\n",
       "    }, 10, root)\n",
       "  }\n",
       "})(window);"
      ],
      "application/vnd.bokehjs_exec.v0+json": ""
     },
     "metadata": {
      "application/vnd.bokehjs_exec.v0+json": {
       "id": "1d726f6b-2518-4ca6-a835-7757f751cd9e"
      }
     },
     "output_type": "display_data"
    }
   ],
   "source": [
    "from bokeh.layouts import column\n",
    "from bokeh.models import CustomJS, ColumnDataSource, Slider\n",
    "\n",
    "x = np.linspace(-20,30,100)\n",
    "y = -1*(x**2) + x*3 - 1\n",
    "\n",
    "x_0 = 3\n",
    "x_1 = 5\n",
    "y_0 = -1*(x_0**2) + x_0*3 - 1\n",
    "y_1 = -1*(x_1**2) + x_1*3 - 1\n",
    "m = (y_1 - y_0) / (x_1 - x_0)\n",
    "b = y_1 - m*x_1\n",
    "y_secant = x*m + b\n",
    "\n",
    "source = ColumnDataSource(data=dict(x=x, y=y))\n",
    "source_secant = ColumnDataSource(data=dict(x=x, y=y_secant))\n",
    "\n",
    "plot = figure(title=\"Trajectory of a ball\", \n",
    "           plot_height=300, plot_width=600,\n",
    "             y_range=(-800,400), x_range=(-20,30))\n",
    "\n",
    "plot.line('x', 'y', source=source, line_width=3, line_alpha=0.6)\n",
    "plot.line('x', 'y', source=source_secant, line_width=3, line_alpha=0.6)\n",
    "\n",
    "\n",
    "update_curve = CustomJS(args=dict(source=source_secant), code=\"\"\"\n",
    "    var data = source.data;\n",
    "    x = data['x']\n",
    "    y = data['y']\n",
    "    x_0 = slider1.value;\n",
    "    x_1 = slider2.value;\n",
    "    y_0 = -1*(x_0**2) + x_0*3 - 1\n",
    "    y_1 = -1*(x_1**2) + x_1*3 - 1\n",
    "    m = (y_1 - y_0) / (x_1 - x_0)\n",
    "    b = y_1 - m*x_1\n",
    "    for (i = 0; i < x.length; i++) {\n",
    "       y[i] = x[i]*m + b\n",
    "    }\n",
    "    source.change.emit();\n",
    "\"\"\")\n",
    "\n",
    "\n",
    "slider1 = Slider(start=-30.0, end=10, value=1, step=.1, \n",
    "                  title=\"X1\", callback=update_curve)\n",
    "update_curve.args[\"slider1\"] = slider1\n",
    "\n",
    "slider2 = Slider(start=-30.0, end=10, value=3, step=.1, \n",
    "                  title=\"X2\",callback=update_curve)\n",
    "update_curve.args[\"slider2\"] = slider2\n",
    "\n",
    "\n",
    "show(column(slider1, slider2, plot))\n",
    "\n",
    "show(plot)\n"
   ]
  },
  {
   "cell_type": "markdown",
   "metadata": {},
   "source": [
    "\n",
    "In the last step, we drew secant lines between the fixed $x_1$ value and increasingly larger $x_2$ values. When the gap between $x_1$ and $x_2$ was small, the secant line intersected comfortably with our curve. As we increased the gap between the **2** x-values, the secant line started to diverge from our curve. This observation is critical to understanding how slope works for curves.\n",
    "\n",
    "The slope of a curve at a specific point, $x_1$ is best understood as slope of the secant line at increasingly smaller intervals of [$x_1,x_2$]. The smaller the difference between $x_1$ and $x_2$, the more precise the secant line approximates the slope at that point on our curve.\n",
    "\n",
    "What happens when $x_1$ and $x_2$ are the same?\n",
    "\n",
    "This line is known as the **tangent**, and, unlike the secant line, it only intersects our function at one point. So far, we've been working with secant lines that connect **2** points that are increasingly close together. You can think of the tangent line as the secant line when both points are the same."
   ]
  },
  {
   "cell_type": "code",
   "execution_count": null,
   "metadata": {
    "collapsed": true
   },
   "outputs": [],
   "source": []
  }
 ],
 "metadata": {
  "kernelspec": {
   "display_name": "Python 3",
   "language": "python",
   "name": "python3"
  },
  "language_info": {
   "codemirror_mode": {
    "name": "ipython",
    "version": 3
   },
   "file_extension": ".py",
   "mimetype": "text/x-python",
   "name": "python",
   "nbconvert_exporter": "python",
   "pygments_lexer": "ipython3",
   "version": "3.6.3"
  }
 },
 "nbformat": 4,
 "nbformat_minor": 2
}
