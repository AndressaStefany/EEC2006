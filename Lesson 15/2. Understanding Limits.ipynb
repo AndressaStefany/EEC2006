{
 "cells": [
  {
   "cell_type": "markdown",
   "metadata": {},
   "source": [
    "1. Understanding Limits\n",
    "==\n",
    "\n",
    "At the end of the last mission, we fixed a first point on our curve, drew a secant line between that first point and another second point, and observed what happened when we moved the second point closer to the first point along the curve. The larger the interval between the **2** points on the x-axis, the more the steepness of the secant line diverged from the steepness of the curve. The closer the interval, the more the secant line started to match the steepness at the first point on the curve.\n",
    "\n",
    "In this mission, we'll formalize the idea of slope further and learn how to calculate the slope for nonlinear equations at any given point. **As you go through the rest of this course, we strongly recommend following the math we present using pencil and paper**. We'll start by introducing some mathematical notation that formalizes the observation we made at the end of the last mission. If we try to state the observation by plugging in values to the slope equation, we'll run into the division by zero problem:\n",
    "\n",
    "$$\\displaystyle m=\\frac{f(x_2)−f(x_1)}{x_2−x_1}=\\frac{0}{0}$$\n",
    "\n",
    "\n",
    "Even though the slope is undefined when $x_1$ and $x_2$ are equivalent, we still want to be able to state and reason about what value the slope approaches as $x_2$ approaches $x_1$. To do that, we need to reframe the problem as a limit. A limit desribes the value a function approaches when the input variable to the function approaches a specific value. In our case, the input variable is $x_2$ and our function is $\\displaystyle m=\\frac{f(x_2)−f(x_1)}{x_2−x_1}$. The following mathematical notation formalizes the statement \"As $x_2$ approaches **3**, the slope between $x_1$ and $x_2$ approaches **−3**\" using a limit:\n",
    "\n",
    "$$\\lim_{x_2\\to 3} \\frac{f(x_2)−f(x_1)}{x_2−x_1}=-3$$\n",
    "\n",
    "$\\lim_{x_2\\to 3}$ is another way of saying \"As $x_2$ approaches 3\". Because we fixed $x_1$ to 3, we can replace $x_1$ with 3 in the function:\n",
    "\n",
    "$$\\lim_{x_2\\to 3} \\frac{f(x_2)−f(3)}{x_2−3}=\\lim_{x_2\\to 3} \\frac{f(x_2)+1}{x_2−3}$$\n",
    "\n",
    "We still need to prove that this limit actually does equal −3, which we'll spend the rest of this mission exploring."
   ]
  },
  {
   "cell_type": "markdown",
   "metadata": {},
   "source": [
    "\n",
    "2. Defined vs. Undefined Limits\n",
    "==\n",
    "\n",
    "There are 2 kinds of limits -- **defined limits** and **undefined limits**. As you can probably guess, the limit we looked at in the last screen was an undefined limit because plugging in 3 for $x_2$ results in an undefined value. A defined limit can be evaluated just by substituting the value into the limit.\n",
    "\n",
    "Let's start by understanding how defined limits work. Whenever the resulting value of a limit is defined at the value the input variable approaches, we say that limit is defined. In the last mission, we generated a table of values that displayed the slopes of the secant lines between closer and closer points to $x_1=3$:\n",
    "\n",
    "| x1     | x0 | m       |\n",
    "|--------|----|---------|\n",
    "| 2.9    | 3  | -2.9    |\n",
    "| 2.99   | 3  | -2.99   |\n",
    "| 2.999  | 3  | -2.999  |\n",
    "| 3.01   | 3  | -3.01   |\n",
    "| 3.001  | 3  | -3.001  |\n",
    "| 3.0001 | 3  | -3.0001 |\n",
    "\n",
    "To calculate each of these slopes, we plugged in both $x_1$ and $x_2$ values into the slope equation. Here's the calculation for the slope of the secant line between the points at $x_1=3$ and $x_2=2.9$ where $f(x)=−(x^2)+3x−1$:\n",
    "\n",
    "$$m=\\frac{f(2.9)−f(3)}{2.9−3}=−2.9$$\n",
    "\n",
    "\n",
    "We can actually rewrite each of these as defined limits. For example, the following defined limit describes the slope of the secant line between the same 2 points points:\n",
    "\n",
    "$$\\lim_{x_2\\to 2.9} \\frac{f(x_2)−f(x_1)}{x_2−x_1}$$\n",
    "\n",
    "\n",
    "Since we've fixed $x_1$ to the value 3, we can replace $x_1$ with 3 and $f(x_1)$ with −1:\n",
    "\n",
    "$$\\lim_{x_2\\to 2.9} \\frac{f(x_2)−(-1)}{x_2−3}$$\n",
    "\n",
    "\n",
    "To finish solving the limit, we can use direct substition and plug in 2.9 for $x_2$ into the limit. This is because the limit is defined at the specific value (2.9) that the input variable approaches ($x_2$). When we can replace the input variable with the value it approaches in the limit, the problem is converted to a regular arithmetic problem:\n",
    "\n",
    "$$\\frac{f(2.9)−(−1)}{2.9−3}=−2.9$$\n",
    "\n",
    "\n",
    "Hopefully this process has shed some light on how we can solve undefined limits like the one we posed in the first screen. **By rewriting and converting an undefined limit to a defined limit, we can solve the limit using direct substitution and standard arithmetic**.\n",
    "\n",
    "Before diving into how to convert an undefined limit to a defined limit, let's explore how to compute limits using Python to verify our work."
   ]
  },
  {
   "cell_type": "markdown",
   "metadata": {},
   "source": [
    "3. Introduction to SymPy\n",
    "==\n",
    "\n",
    "The [SymPy](http://docs.sympy.org/dev/tutorial/calculus.html#limits) library has a suite of functions that let us calculate limits. The syntax for SymPy closely follows mathematical notation. To start, we need to import the library and use <span style=\"background-color: #F9EBEA; color:##C0392B\">sympy.symbols()</span> declare the variables we want to be treated as symbols for SymPy to parse:\n",
    "\n",
    ">```python\n",
    "import sympy\n",
    "x,y = sympy.symbols('x y')\n",
    "```\n",
    "\n",
    "In the last mission, we plotted a function by generating many x values (and assigning to <span style=\"background-color: #F9EBEA; color:##C0392B\">x</span>), transforming those x values to y values (assigned to <span style=\"background-color: #F9EBEA; color:##C0392B\">y</span>) using Python arithmetic operators, and using matplotlib to plot both lists:\n",
    "\n",
    ">```python\n",
    "x = np.linspace(0, 3, 100)\n",
    "y = -1*(x**2) + x*3 - 1\n",
    "plt.plot(x,y)\n",
    "```\n",
    "\n",
    "In SymPy, the workflow is different and the Python variables we use don't directly map to specific values. In SymPy, Python variables map directly to variables in math. We express a mathematical function as a transformation of the Python variable. When we called <span style=\"background-color: #F9EBEA; color:##C0392B\">sympy.symbols()</span> and passed in <span style=\"background-color: #F9EBEA; color:##C0392B\">x</span>, <span style=\"background-color: #F9EBEA; color:##C0392B\">x</span> points to a special SymPy object (not a list):\n",
    "\n",
    ">```python\n",
    ">> type(x)\n",
    "sympy.core.symbol.Symbol\n",
    "```\n",
    "\n",
    "We then need to express the mathematical function in SymPy. We use standard Python arithmetic operators for this:\n",
    "\n",
    ">```python\n",
    "y = x**2 + 3*x\n",
    "```"
   ]
  },
  {
   "cell_type": "code",
   "execution_count": 13,
   "metadata": {},
   "outputs": [
    {
     "name": "stdout",
     "output_type": "stream",
     "text": [
      "x**2 + 3*x\n"
     ]
    }
   ],
   "source": [
    "import sympy\n",
    "x,y = sympy.symbols('x y')\n",
    "y = x**2 + 3*x\n",
    "print(y)"
   ]
  },
  {
   "cell_type": "markdown",
   "metadata": {},
   "source": [
    "4. Limits Using SymPy\n",
    "==\n",
    "\n",
    "After we've defined the variables and the mathematical function in SymPy, we use the <span style=\"background-color: #F9EBEA; color:##C0392B\">[sympy.limit()](http://docs.sympy.org/dev/modules/core.html#sympy.core.expr.Expr.limit)</span> function to calculate the limit. This function takes in 3 parameters:\n",
    "\n",
    "- the function we're taking the limit for\n",
    "- the input variable\n",
    "- the value the input variable approaches\n",
    "\n",
    "In this screen and the next few screens, we'll work with some new limit problems to understand the basic ideas. Let's say we wanted to solve the following defined limit:\n",
    "\n",
    "$$\\lim_{x\\to 1} x^{2}+1$$\n",
    "\n",
    "For this problem, the input varialbe is x and the limit criteria is $\\lim_{x\\to 1}$. Here's how to express that in SymPy:\n",
    "\n",
    ">```python\n",
    "limit_one = sympy.limit(x**2 +1, x, 1)\n",
    "```\n",
    "\n",
    "Let's practice calculating limits using SymPy.\n",
    "\n",
    "\n",
    "<br>\n",
    "<div class=\"alert alert-info\">\n",
    "<b>Exercise Start.</b>\n",
    "</div>\n",
    "\n",
    "**Description**: \n",
    "\n",
    "Use SymPy to confirm that $\\lim_{x_2\\to 2.9}\\frac{f(x2)−(−1)}{x_2−3}=−2.9$. You'll need to plug in $x_2=2.9$ into $f(x)=−(x^2)+3x$ before passing in the limit function to <span style=\"background-color: #F9EBEA; color:##C0392B\">[sympy.limit()](http://docs.sympy.org/dev/modules/core.html#sympy.core.expr.Expr.limit)</span>."
   ]
  },
  {
   "cell_type": "code",
   "execution_count": 18,
   "metadata": {},
   "outputs": [
    {
     "name": "stdout",
     "output_type": "stream",
     "text": [
      "-2.89999999999999\n"
     ]
    }
   ],
   "source": [
    "import sympy\n",
    "x2,y = sympy.symbols('x2 y')\n",
    "limit_one = sympy.limit((-x2**2 +3*x2)/(x2-3) , x2, 2.9)\n",
    "print(limit_one)"
   ]
  },
  {
   "cell_type": "markdown",
   "metadata": {},
   "source": [
    "5. Properties Of Limits I\n",
    "==\n",
    "\n",
    "SymPy returned −2.9 as the slope of the secant line, which matches our calculation using the slope formula. Before we can convert undefined limits to defined limits, we need to first understand some of the properties of limits. Using these properties, we can rework undefined limits to defined limits and solve them. Here's the first property:\n",
    "\n",
    "$$\\lim_{x\\to a}[f(x)+g(x)]= \\lim_{x\\to a}f(x)+ \\lim_{x\\to a}g(x)$$\n",
    "\n",
    "\n",
    "This property allows us to break up limits with terms that are being summed into their individual components. This also holds true for subtraction:\n",
    "\n",
    "$$\\lim_{x\\to a}[f(x)-g(x)]= \\lim_{x\\to a}f(x)- \\lim_{x\\to a}g(x)$$\n",
    "\n",
    "\n",
    "We can apply these rules to break up the following limit into smaller components:\n",
    "\n",
    "$$\\lim_{x\\to 1}[3x^2 + 3x - 3]$$\n",
    "\n",
    "\n",
    "Even though this is a defined limit and we can solve it using direct substition, it's a good example for understanding how to apply these properties. By applying the property we just learned, the equation breaks down into:\n",
    "\n",
    "$$\\lim_{x\\to 1}[3x^2] + \\lim_{x\\to 1}[3x] - \\lim_{x\\to 1}[3]$$\n",
    "\n",
    "Now lets plug in $x=1$ to each of these limit terms.\n",
    "\n",
    "$$3+3−3=3$$\n",
    "\n",
    "While we won't dive into the proofs for these limit properties in this mission, you can read more about them here. Let's use SymPy to confirm this result."
   ]
  },
  {
   "cell_type": "code",
   "execution_count": 19,
   "metadata": {},
   "outputs": [
    {
     "name": "stdout",
     "output_type": "stream",
     "text": [
      "3\n"
     ]
    }
   ],
   "source": [
    "import sympy\n",
    "x,y = sympy.symbols('x y')\n",
    "y = 3*(x**2) + 3*x - 3\n",
    "limit_two = sympy.limit(y, x, 1)\n",
    "print(limit_two)"
   ]
  },
  {
   "cell_type": "markdown",
   "metadata": {},
   "source": [
    "6. Properties Of Limits II\n",
    "==\n",
    "\n",
    "The second property allows us to break up terms that are being multiplied by a constant:\n",
    "\n",
    "$$\\lim_{x\\to a}[cf(x)] = c \\lim_{x\\to a}[f(x)]$$\n",
    "\n",
    "Here's the limit from the last screen before we performed direct substitution:\n",
    "\n",
    "$$\\lim_{x\\to 1}[3x^2] + \\lim_{x\\to 1}[3x] - \\lim_{x\\to 1}[3]$$\n",
    "\n",
    "If we apply the limit property from this screen, the limit terms transform into:\n",
    "\n",
    "$$3\\lim_{x\\to 1}[x^2] + 3 \\lim_{x\\to 1}[x] - 3\\lim_{x\\to 1}[1]$$\n",
    "\n",
    "If we use direct substitution, we'll get the same answer as the last screen: \n",
    "\n",
    "$$3+3−3=3$$\n",
    "\n",
    "\n",
    "<br>\n",
    "<div class=\"alert alert-info\">\n",
    "<b>Exercise Start.</b>\n",
    "</div>\n",
    "\n",
    "**Description**: \n",
    "\n",
    "- Use the limit properties you just learned to solve the following limit: \n",
    "\n",
    "$$\\lim_{x\\to −1}[x^3+2x^2−10x]$$"
   ]
  },
  {
   "cell_type": "code",
   "execution_count": 20,
   "metadata": {},
   "outputs": [
    {
     "name": "stdout",
     "output_type": "stream",
     "text": [
      "11\n"
     ]
    }
   ],
   "source": [
    "import sympy\n",
    "x,y = sympy.symbols('x y')\n",
    "y = x**3 + 2*(x**2) - x*10\n",
    "limit_three = sympy.limit(y, x, -1)\n",
    "print(limit_three)"
   ]
  }
 ],
 "metadata": {
  "kernelspec": {
   "display_name": "Python 3",
   "language": "python",
   "name": "python3"
  },
  "language_info": {
   "codemirror_mode": {
    "name": "ipython",
    "version": 3
   },
   "file_extension": ".py",
   "mimetype": "text/x-python",
   "name": "python",
   "nbconvert_exporter": "python",
   "pygments_lexer": "ipython3",
   "version": "3.6.3"
  }
 },
 "nbformat": 4,
 "nbformat_minor": 2
}
